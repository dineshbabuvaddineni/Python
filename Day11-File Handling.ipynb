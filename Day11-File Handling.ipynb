{
 "cells": [
  {
   "cell_type": "markdown",
   "id": "dfe9547c",
   "metadata": {},
   "source": [
    "# File Handling\n",
    "- Files are used to store output data"
   ]
  },
  {
   "cell_type": "markdown",
   "id": "f34444b1",
   "metadata": {},
   "source": [
    "## Types of Files\n",
    "  * Text File\n",
    "  * Binary File"
   ]
  },
  {
   "cell_type": "markdown",
   "id": "a3d66fc4",
   "metadata": {},
   "source": [
    "# open()\n",
    "- syntax:\n",
    "   - file_object=open(\"filename.taxt\",\"Access Mode\")\n",
    "   \n",
    "\n"
   ]
  },
  {
   "cell_type": "markdown",
   "id": "68a87e72",
   "metadata": {},
   "source": [
    "### Acess Modes\n",
    "-----------------------\n",
    "- r -read mode\n",
    "      - File is only for reading the content\n",
    "      - Immediately after opening the file ,File pointer points at the beginning of the file\n",
    "      - File should exist before opening in reading mode\n",
    "      - Syntax : f=open(\"abc.txt\",\"r\")\n",
    "      \n",
    "- w -write mode\n",
    "      - Only for writing the content\n",
    "      - file pointer points at the beginning of the file.\n",
    "      - If the file exists the file is opened and pointer points at the beginning of the file data will be over written\n",
    "      - If the file doesn't exist then new file will be created with given file name\n",
    "      - Syntax : f=open(\"abc.txt\",\"w\")\n",
    "      \n",
    "- a -append mode\n",
    "      - To append and write the data\n",
    "      - If file exists file pointer pointa at the end of content in the file\n",
    "      - If file not exists new file will be created and file pointer points at the beginning.\n",
    "      - Syntax : f=open(\"abc.txt\",\"a\")\n",
    "      \n",
    " "
   ]
  },
  {
   "cell_type": "code",
   "execution_count": 1,
   "id": "e5e80239",
   "metadata": {},
   "outputs": [
    {
     "name": "stdout",
     "output_type": "stream",
     "text": [
      "Something in your console\n"
     ]
    }
   ],
   "source": [
    "print(\"Something in your console\")"
   ]
  },
  {
   "cell_type": "code",
   "execution_count": 3,
   "id": "3ad70e53",
   "metadata": {},
   "outputs": [],
   "source": [
    "f=open(\"file1.txt\",\"w\")"
   ]
  },
  {
   "cell_type": "code",
   "execution_count": 4,
   "id": "4d3e1a64",
   "metadata": {},
   "outputs": [
    {
     "data": {
      "text/plain": [
       "'C:\\\\Users\\\\V.Dinesh Babu\\\\Downloads\\\\Data science by ineuron\\\\Python'"
      ]
     },
     "execution_count": 4,
     "metadata": {},
     "output_type": "execute_result"
    }
   ],
   "source": [
    "pwd()"
   ]
  },
  {
   "cell_type": "code",
   "execution_count": 6,
   "id": "b19e3599",
   "metadata": {},
   "outputs": [
    {
     "name": "stdout",
     "output_type": "stream",
     "text": [
      " Volume in drive C is Windows\n",
      " Volume Serial Number is 848B-8E2F\n",
      "\n",
      " Directory of C:\\Users\\V.Dinesh Babu\\Downloads\\Data science by ineuron\\Python\n",
      "\n",
      "11/19/2022  07:49 PM    <DIR>          .\n",
      "11/12/2022  12:26 PM    <DIR>          ..\n",
      "11/19/2022  07:07 PM    <DIR>          .ipynb_checkpoints\n",
      "11/02/2022  07:19 PM            59,629 Day1.ipynb\n",
      "11/18/2022  10:00 PM            66,292 Day10-Iterable ,Iterator and Generator.ipynb\n",
      "11/19/2022  07:49 PM             3,236 Day11-File Handling.ipynb\n",
      "11/08/2022  08:30 AM            47,025 Day2.ipynb\n",
      "11/08/2022  08:49 AM            48,676 Day3.ipynb\n",
      "11/09/2022  10:16 AM            84,239 Day4-Strings.ipynb\n",
      "11/10/2022  09:52 AM            43,154 Day5-Contol statements.ipynb\n",
      "11/11/2022  06:09 PM           114,591 Day6-Lists.ipynb\n",
      "11/13/2022  07:09 PM            29,091 Day7-Tuple,Set.ipynb\n",
      "11/12/2022  06:06 PM            30,005 Day8-Dictionary.ipynb\n",
      "11/18/2022  09:51 PM            74,733 Day9 -Functions .ipynb\n",
      "11/19/2022  07:49 PM                 0 file1.txt\n",
      "11/19/2022  07:04 PM            36,194 Practice questions.ipynb\n",
      "11/13/2022  11:49 AM               576 PyForest.ipynb\n",
      "              14 File(s)        637,441 bytes\n",
      "               3 Dir(s)  109,550,411,776 bytes free\n"
     ]
    }
   ],
   "source": [
    "%ls"
   ]
  },
  {
   "cell_type": "markdown",
   "id": "829d27f2",
   "metadata": {},
   "source": [
    "# write()"
   ]
  },
  {
   "cell_type": "code",
   "execution_count": 24,
   "id": "5862b421",
   "metadata": {},
   "outputs": [
    {
     "data": {
      "text/plain": [
       "31"
      ]
     },
     "execution_count": 24,
     "metadata": {},
     "output_type": "execute_result"
    }
   ],
   "source": [
    "f=open(\"File2.txt\",\"w\")\n",
    "f.write(\"This is my first file operation\")\n"
   ]
  },
  {
   "cell_type": "code",
   "execution_count": 25,
   "id": "bf3cd54d",
   "metadata": {},
   "outputs": [],
   "source": [
    "f.close()"
   ]
  },
  {
   "cell_type": "code",
   "execution_count": 26,
   "id": "e4f7621e",
   "metadata": {},
   "outputs": [
    {
     "data": {
      "text/plain": [
       "285"
      ]
     },
     "execution_count": 26,
     "metadata": {},
     "output_type": "execute_result"
    }
   ],
   "source": [
    "f=open(\"File3.txt\",\"w\")\n",
    "f.write(\"\"\"A.P.J. Abdul Kalam was a prominent Indian\n",
    "        scientist who served as the 11th President of India \n",
    "        from 2002 to 2007. Renowned for his pivotal role in the nation’s \n",
    "        civilian space programme and military missile development, he was known as the Missile Man of India.\"\"\")\n"
   ]
  },
  {
   "cell_type": "code",
   "execution_count": 27,
   "id": "de1ffd2a",
   "metadata": {},
   "outputs": [],
   "source": [
    "f.close()"
   ]
  },
  {
   "cell_type": "markdown",
   "id": "a1aa936b",
   "metadata": {},
   "source": [
    "### Another way of creating a file"
   ]
  },
  {
   "cell_type": "code",
   "execution_count": 28,
   "id": "676c83b6",
   "metadata": {},
   "outputs": [
    {
     "name": "stdout",
     "output_type": "stream",
     "text": [
      "Overwriting File4.txt\n"
     ]
    }
   ],
   "source": [
    "%%writefile File4.txt\n",
    "I would like to store data related to mchine learning."
   ]
  },
  {
   "cell_type": "code",
   "execution_count": 30,
   "id": "7add4f13",
   "metadata": {},
   "outputs": [
    {
     "name": "stdout",
     "output_type": "stream",
     "text": [
      " Volume in drive C is Windows\n",
      " Volume Serial Number is 848B-8E2F\n",
      "\n",
      " Directory of C:\\Users\\V.Dinesh Babu\\Downloads\\Data science by ineuron\\Python\n",
      "\n",
      "11/19/2022  08:03 PM    <DIR>          .\n",
      "11/12/2022  12:26 PM    <DIR>          ..\n",
      "11/19/2022  07:07 PM    <DIR>          .ipynb_checkpoints\n",
      "11/02/2022  07:19 PM            59,629 Day1.ipynb\n",
      "11/18/2022  10:00 PM            66,292 Day10-Iterable ,Iterator and Generator.ipynb\n",
      "11/19/2022  08:03 PM             9,039 Day11-File Handling.ipynb\n",
      "11/08/2022  08:30 AM            47,025 Day2.ipynb\n",
      "11/08/2022  08:49 AM            48,676 Day3.ipynb\n",
      "11/09/2022  10:16 AM            84,239 Day4-Strings.ipynb\n",
      "11/10/2022  09:52 AM            43,154 Day5-Contol statements.ipynb\n",
      "11/11/2022  06:09 PM           114,591 Day6-Lists.ipynb\n",
      "11/13/2022  07:09 PM            29,091 Day7-Tuple,Set.ipynb\n",
      "11/12/2022  06:06 PM            30,005 Day8-Dictionary.ipynb\n",
      "11/18/2022  09:51 PM            74,733 Day9 -Functions .ipynb\n",
      "11/19/2022  07:49 PM                 0 file1.txt\n",
      "11/19/2022  08:03 PM                31 File2.txt\n",
      "11/19/2022  08:03 PM               288 File3.txt\n",
      "11/19/2022  08:03 PM                56 File4.txt\n",
      "11/19/2022  07:04 PM            36,194 Practice questions.ipynb\n",
      "11/13/2022  11:49 AM               576 PyForest.ipynb\n",
      "              17 File(s)        643,619 bytes\n",
      "               3 Dir(s)  109,549,088,768 bytes free\n"
     ]
    }
   ],
   "source": [
    "ls"
   ]
  },
  {
   "cell_type": "markdown",
   "id": "07f92e5c",
   "metadata": {},
   "source": [
    "# read()"
   ]
  },
  {
   "cell_type": "code",
   "execution_count": 31,
   "id": "257326a1",
   "metadata": {},
   "outputs": [],
   "source": [
    "f=open(\"file2.txt\",'r')"
   ]
  },
  {
   "cell_type": "code",
   "execution_count": 32,
   "id": "ca3841ef",
   "metadata": {},
   "outputs": [
    {
     "data": {
      "text/plain": [
       "'This is my first file operation'"
      ]
     },
     "execution_count": 32,
     "metadata": {},
     "output_type": "execute_result"
    }
   ],
   "source": [
    "f.read()"
   ]
  },
  {
   "cell_type": "code",
   "execution_count": 33,
   "id": "a5029751",
   "metadata": {},
   "outputs": [
    {
     "data": {
      "text/plain": [
       "''"
      ]
     },
     "execution_count": 33,
     "metadata": {},
     "output_type": "execute_result"
    }
   ],
   "source": [
    "f.read()"
   ]
  },
  {
   "cell_type": "code",
   "execution_count": 34,
   "id": "d61d3be6",
   "metadata": {},
   "outputs": [
    {
     "data": {
      "text/plain": [
       "5"
      ]
     },
     "execution_count": 34,
     "metadata": {},
     "output_type": "execute_result"
    }
   ],
   "source": [
    "f.seek(5) #seek() method is used to reset the curser to the particular point of interest.\n"
   ]
  },
  {
   "cell_type": "code",
   "execution_count": 35,
   "id": "d33729dd",
   "metadata": {},
   "outputs": [
    {
     "data": {
      "text/plain": [
       "'is my first file operation'"
      ]
     },
     "execution_count": 35,
     "metadata": {},
     "output_type": "execute_result"
    }
   ],
   "source": [
    "f.read()"
   ]
  },
  {
   "cell_type": "code",
   "execution_count": 36,
   "id": "688a35d7",
   "metadata": {},
   "outputs": [
    {
     "data": {
      "text/plain": [
       "''"
      ]
     },
     "execution_count": 36,
     "metadata": {},
     "output_type": "execute_result"
    }
   ],
   "source": [
    "f.read()"
   ]
  },
  {
   "cell_type": "code",
   "execution_count": 37,
   "id": "78c7ad6f",
   "metadata": {},
   "outputs": [
    {
     "data": {
      "text/plain": [
       "1"
      ]
     },
     "execution_count": 37,
     "metadata": {},
     "output_type": "execute_result"
    }
   ],
   "source": [
    "f.seek(1)"
   ]
  },
  {
   "cell_type": "code",
   "execution_count": 38,
   "id": "f0e0db7e",
   "metadata": {},
   "outputs": [
    {
     "data": {
      "text/plain": [
       "'his is my first file operation'"
      ]
     },
     "execution_count": 38,
     "metadata": {},
     "output_type": "execute_result"
    }
   ],
   "source": [
    "f.read()"
   ]
  },
  {
   "cell_type": "code",
   "execution_count": 39,
   "id": "07d60056",
   "metadata": {},
   "outputs": [
    {
     "data": {
      "text/plain": [
       "''"
      ]
     },
     "execution_count": 39,
     "metadata": {},
     "output_type": "execute_result"
    }
   ],
   "source": [
    "f.read()"
   ]
  },
  {
   "cell_type": "code",
   "execution_count": 40,
   "id": "940de586",
   "metadata": {},
   "outputs": [
    {
     "data": {
      "text/plain": [
       "3"
      ]
     },
     "execution_count": 40,
     "metadata": {},
     "output_type": "execute_result"
    }
   ],
   "source": [
    "f.seek(3)"
   ]
  },
  {
   "cell_type": "code",
   "execution_count": 41,
   "id": "8360ebe1",
   "metadata": {},
   "outputs": [
    {
     "data": {
      "text/plain": [
       "'s is my first file operation'"
      ]
     },
     "execution_count": 41,
     "metadata": {},
     "output_type": "execute_result"
    }
   ],
   "source": [
    "f.read()"
   ]
  },
  {
   "cell_type": "code",
   "execution_count": 42,
   "id": "d6df66aa",
   "metadata": {},
   "outputs": [
    {
     "data": {
      "text/plain": [
       "0"
      ]
     },
     "execution_count": 42,
     "metadata": {},
     "output_type": "execute_result"
    }
   ],
   "source": [
    "f.seek(0)"
   ]
  },
  {
   "cell_type": "code",
   "execution_count": 43,
   "id": "fbcb650a",
   "metadata": {},
   "outputs": [],
   "source": [
    "f.close()"
   ]
  },
  {
   "cell_type": "code",
   "execution_count": 44,
   "id": "7a2a02b4",
   "metadata": {},
   "outputs": [],
   "source": [
    "f=open(\"File2.txt\",\"r+\")\n"
   ]
  },
  {
   "cell_type": "code",
   "execution_count": 45,
   "id": "5c681248",
   "metadata": {},
   "outputs": [
    {
     "data": {
      "text/plain": [
       "'This is my first file operation'"
      ]
     },
     "execution_count": 45,
     "metadata": {},
     "output_type": "execute_result"
    }
   ],
   "source": [
    "f.read()"
   ]
  },
  {
   "cell_type": "code",
   "execution_count": 46,
   "id": "265a584d",
   "metadata": {},
   "outputs": [
    {
     "data": {
      "text/plain": [
       "''"
      ]
     },
     "execution_count": 46,
     "metadata": {},
     "output_type": "execute_result"
    }
   ],
   "source": [
    "f.readline()"
   ]
  },
  {
   "cell_type": "code",
   "execution_count": 47,
   "id": "68bf6046",
   "metadata": {},
   "outputs": [
    {
     "data": {
      "text/plain": [
       "31"
      ]
     },
     "execution_count": 47,
     "metadata": {},
     "output_type": "execute_result"
    }
   ],
   "source": [
    "f.tell()"
   ]
  },
  {
   "cell_type": "code",
   "execution_count": 48,
   "id": "a4908e05",
   "metadata": {},
   "outputs": [
    {
     "data": {
      "text/plain": [
       "0"
      ]
     },
     "execution_count": 48,
     "metadata": {},
     "output_type": "execute_result"
    }
   ],
   "source": [
    "f.seek(0)"
   ]
  },
  {
   "cell_type": "code",
   "execution_count": 49,
   "id": "13fdf613",
   "metadata": {},
   "outputs": [
    {
     "data": {
      "text/plain": [
       "'This is my first file operation'"
      ]
     },
     "execution_count": 49,
     "metadata": {},
     "output_type": "execute_result"
    }
   ],
   "source": [
    "f.readline()"
   ]
  },
  {
   "cell_type": "code",
   "execution_count": 50,
   "id": "47a94ce1",
   "metadata": {},
   "outputs": [
    {
     "data": {
      "text/plain": [
       "''"
      ]
     },
     "execution_count": 50,
     "metadata": {},
     "output_type": "execute_result"
    }
   ],
   "source": [
    "f.readline()"
   ]
  },
  {
   "cell_type": "code",
   "execution_count": 55,
   "id": "7bee7829",
   "metadata": {},
   "outputs": [],
   "source": [
    "f=open(\"file5.txt\",\"w\")"
   ]
  },
  {
   "cell_type": "code",
   "execution_count": 56,
   "id": "6be416a5",
   "metadata": {},
   "outputs": [
    {
     "data": {
      "text/plain": [
       "80"
      ]
     },
     "execution_count": 56,
     "metadata": {},
     "output_type": "execute_result"
    }
   ],
   "source": [
    "f.write(\"\"\"I am Dinesh Babu \n",
    " Currently learning data science\n",
    " Currently working for an MNC\"\"\")"
   ]
  },
  {
   "cell_type": "code",
   "execution_count": 57,
   "id": "552fae5e",
   "metadata": {},
   "outputs": [],
   "source": [
    "f.close()"
   ]
  },
  {
   "cell_type": "code",
   "execution_count": 58,
   "id": "e705791a",
   "metadata": {},
   "outputs": [],
   "source": [
    "f=open(\"file5.txt\",\"r\")"
   ]
  },
  {
   "cell_type": "code",
   "execution_count": 59,
   "id": "ba14aa13",
   "metadata": {},
   "outputs": [
    {
     "data": {
      "text/plain": [
       "'I am Dinesh Babu \\n Currently learning data science\\n Currently working for an MNC'"
      ]
     },
     "execution_count": 59,
     "metadata": {},
     "output_type": "execute_result"
    }
   ],
   "source": [
    "f.read()"
   ]
  },
  {
   "cell_type": "code",
   "execution_count": 60,
   "id": "e3bec79d",
   "metadata": {},
   "outputs": [
    {
     "data": {
      "text/plain": [
       "''"
      ]
     },
     "execution_count": 60,
     "metadata": {},
     "output_type": "execute_result"
    }
   ],
   "source": [
    "f.readline()"
   ]
  },
  {
   "cell_type": "code",
   "execution_count": 61,
   "id": "1de8d6c8",
   "metadata": {},
   "outputs": [
    {
     "data": {
      "text/plain": [
       "0"
      ]
     },
     "execution_count": 61,
     "metadata": {},
     "output_type": "execute_result"
    }
   ],
   "source": [
    "f.seek(0)"
   ]
  },
  {
   "cell_type": "code",
   "execution_count": 62,
   "id": "dcda922a",
   "metadata": {},
   "outputs": [
    {
     "data": {
      "text/plain": [
       "'I am Dinesh Babu \\n'"
      ]
     },
     "execution_count": 62,
     "metadata": {},
     "output_type": "execute_result"
    }
   ],
   "source": [
    "f.readline()"
   ]
  },
  {
   "cell_type": "code",
   "execution_count": 63,
   "id": "d8cb56f8",
   "metadata": {},
   "outputs": [
    {
     "data": {
      "text/plain": [
       "' Currently learning data science\\n'"
      ]
     },
     "execution_count": 63,
     "metadata": {},
     "output_type": "execute_result"
    }
   ],
   "source": [
    "f.readline()"
   ]
  },
  {
   "cell_type": "code",
   "execution_count": 64,
   "id": "33f036fd",
   "metadata": {},
   "outputs": [
    {
     "data": {
      "text/plain": [
       "' Currently working for an MNC'"
      ]
     },
     "execution_count": 64,
     "metadata": {},
     "output_type": "execute_result"
    }
   ],
   "source": [
    "f.readline()"
   ]
  },
  {
   "cell_type": "code",
   "execution_count": 65,
   "id": "4f1ab5a8",
   "metadata": {},
   "outputs": [],
   "source": [
    "f.close()"
   ]
  },
  {
   "cell_type": "code",
   "execution_count": 66,
   "id": "4f178d55",
   "metadata": {},
   "outputs": [],
   "source": [
    "f=open(\"google.txt\",\"w\")"
   ]
  },
  {
   "cell_type": "code",
   "execution_count": 69,
   "id": "ecf39b43",
   "metadata": {},
   "outputs": [
    {
     "data": {
      "text/plain": [
       "1341"
      ]
     },
     "execution_count": 69,
     "metadata": {},
     "output_type": "execute_result"
    }
   ],
   "source": [
    "f.write(\"\"\"When Rodrigo was still a youth, his father, Diego Laynez, was grossly insulted by Don Gomez. The custom in those days was to avenge such an insult by slaying the offender; but Diego was too old and feeble to bear arms. When he finally told his son of the wrong, Rodrigo sought out Don Gomez and challenged him to fight. So bravely and skilfully did Rodrigo manage his weapons that he slew his father's enemy. Then he cut off the head and carried it to Diego.\n",
    "\n",
    "Soon after this Diego bade his son do homage at King Ferdinand's court. Rodrigo appeared before the king, but his bearing was so defiant that Ferdinand was frightened, and banished him.\n",
    "\n",
    "Rodrigo departed with three hundred followers, encountered some Moors, who were invading Castile, defeated them and took five of their kings captive, releasing them only after they had promised to pay tribute and to refrain from further warfare. It was these kings who first called him \"Cid.\"\n",
    "\n",
    "In return for his brave service Rodrigo was restored to favor and given place among the king's courtiers.\n",
    "\n",
    "One day Dona Ximena, daughter of Don Gomez, appeared and demanded justice from the king. Recognizing Rodrigo among the courtiers, she called to him to slay her also. But both demand and cry were unheeded, for the king had been too well served by Rodrigo to listen to any accusation against him\"\"\")"
   ]
  },
  {
   "cell_type": "code",
   "execution_count": 70,
   "id": "3587b947",
   "metadata": {},
   "outputs": [],
   "source": [
    "f.close()"
   ]
  },
  {
   "cell_type": "code",
   "execution_count": 71,
   "id": "02ae2961",
   "metadata": {},
   "outputs": [],
   "source": [
    "f=open(\"google.txt\",\"r+\")"
   ]
  },
  {
   "cell_type": "code",
   "execution_count": 72,
   "id": "dd3bce75",
   "metadata": {},
   "outputs": [
    {
     "data": {
      "text/plain": [
       "'When Rodrigo was still a youth, his father, Diego Laynez, was grossly insulted by Don Gomez. The custom in those days was to avenge such an insult by slaying the offender; but Diego was too old and feeble to bear arms. When he finally told his son of the wrong, Rodrigo sought out Don Gomez and challenged him to fight. So bravely and skilfully did Rodrigo manage his weapons that he slew his father\\'s enemy. Then he cut off the head and carried it to Diego.\\n\\nSoon after this Diego bade his son do homage at King Ferdinand\\'s court. Rodrigo appeared before the king, but his bearing was so defiant that Ferdinand was frightened, and banished him.\\n\\nRodrigo departed with three hundred followers, encountered some Moors, who were invading Castile, defeated them and took five of their kings captive, releasing them only after they had promised to pay tribute and to refrain from further warfare. It was these kings who first called him \"Cid.\"\\n\\nIn return for his brave service Rodrigo was restored to favor and given place among the king\\'s courtiers.\\n\\nOne day Dona Ximena, daughter of Don Gomez, appeared and demanded justice from the king. Recognizing Rodrigo among the courtiers, she called to him to slay her also. But both demand and cry were unheeded, for the king had been too well served by Rodrigo to listen to any accusation against him'"
      ]
     },
     "execution_count": 72,
     "metadata": {},
     "output_type": "execute_result"
    }
   ],
   "source": [
    "f.read()"
   ]
  },
  {
   "cell_type": "code",
   "execution_count": 73,
   "id": "b30aba34",
   "metadata": {},
   "outputs": [
    {
     "data": {
      "text/plain": [
       "''"
      ]
     },
     "execution_count": 73,
     "metadata": {},
     "output_type": "execute_result"
    }
   ],
   "source": [
    "f.readline()"
   ]
  },
  {
   "cell_type": "code",
   "execution_count": 74,
   "id": "c0496478",
   "metadata": {},
   "outputs": [
    {
     "data": {
      "text/plain": [
       "0"
      ]
     },
     "execution_count": 74,
     "metadata": {},
     "output_type": "execute_result"
    }
   ],
   "source": [
    "f.seek(0)"
   ]
  },
  {
   "cell_type": "code",
   "execution_count": 75,
   "id": "42940d5d",
   "metadata": {},
   "outputs": [
    {
     "data": {
      "text/plain": [
       "\"When Rodrigo was still a youth, his father, Diego Laynez, was grossly insulted by Don Gomez. The custom in those days was to avenge such an insult by slaying the offender; but Diego was too old and feeble to bear arms. When he finally told his son of the wrong, Rodrigo sought out Don Gomez and challenged him to fight. So bravely and skilfully did Rodrigo manage his weapons that he slew his father's enemy. Then he cut off the head and carried it to Diego.\\n\""
      ]
     },
     "execution_count": 75,
     "metadata": {},
     "output_type": "execute_result"
    }
   ],
   "source": [
    "f.readline()"
   ]
  },
  {
   "cell_type": "code",
   "execution_count": 77,
   "id": "f925b491",
   "metadata": {},
   "outputs": [
    {
     "data": {
      "text/plain": [
       "\"Soon after this Diego bade his son do homage at King Ferdinand's court. Rodrigo appeared before the king, but his bearing was so defiant that Ferdinand was frightened, and banished him.\\n\""
      ]
     },
     "execution_count": 77,
     "metadata": {},
     "output_type": "execute_result"
    }
   ],
   "source": [
    "f.readline()"
   ]
  },
  {
   "cell_type": "code",
   "execution_count": 79,
   "id": "d6553c58",
   "metadata": {},
   "outputs": [
    {
     "data": {
      "text/plain": [
       "'Rodrigo departed with three hundred followers, encountered some Moors, who were invading Castile, defeated them and took five of their kings captive, releasing them only after they had promised to pay tribute and to refrain from further warfare. It was these kings who first called him \"Cid.\"\\n'"
      ]
     },
     "execution_count": 79,
     "metadata": {},
     "output_type": "execute_result"
    }
   ],
   "source": [
    "f.readline()"
   ]
  },
  {
   "cell_type": "code",
   "execution_count": 81,
   "id": "86880562",
   "metadata": {},
   "outputs": [
    {
     "data": {
      "text/plain": [
       "\"In return for his brave service Rodrigo was restored to favor and given place among the king's courtiers.\\n\""
      ]
     },
     "execution_count": 81,
     "metadata": {},
     "output_type": "execute_result"
    }
   ],
   "source": [
    "f.readline()"
   ]
  },
  {
   "cell_type": "code",
   "execution_count": 82,
   "id": "d0f5bbc7",
   "metadata": {},
   "outputs": [],
   "source": [
    "f.close()"
   ]
  },
  {
   "cell_type": "code",
   "execution_count": 84,
   "id": "34d32392",
   "metadata": {},
   "outputs": [
    {
     "name": "stdout",
     "output_type": "stream",
     "text": [
      "When Rodrigo was still a youth, his father, Diego Laynez, was grossly insulted by Don Gomez. The custom in those days was to avenge such an insult by slaying the offender; but Diego was too old and feeble to bear arms. When he finally told his son of the wrong, Rodrigo sought out Don Gomez and challenged him to fight. So bravely and skilfully did Rodrigo manage his weapons that he slew his father's enemy. Then he cut off the head and carried it to Diego.\n",
      "\n",
      "Soon after this Diego bade his son do homage at King Ferdinand's court. Rodrigo appeared before the king, but his bearing was so defiant that Ferdinand was frightened, and banished him.\n",
      "\n",
      "Rodrigo departed with three hundred followers, encountered some Moors, who were invading Castile, defeated them and took five of their kings captive, releasing them only after they had promised to pay tribute and to refrain from further warfare. It was these kings who first called him \"Cid.\"\n",
      "\n",
      "In return for his brave service Rodrigo was restored to favor and given place among the king's courtiers.\n",
      "\n",
      "One day Dona Ximena, daughter of Don Gomez, appeared and demanded justice from the king. Recognizing Rodrigo among the courtiers, she called to him to slay her also. But both demand and cry were unheeded, for the king had been too well served by Rodrigo to listen to any accusation against him"
     ]
    }
   ],
   "source": [
    "f=open(\"google.txt\",\"r+\")\n",
    "for line in f:\n",
    "    print(line,end=\"\")"
   ]
  },
  {
   "cell_type": "code",
   "execution_count": 85,
   "id": "cbb28d97",
   "metadata": {},
   "outputs": [
    {
     "data": {
      "text/plain": [
       "51"
      ]
     },
     "execution_count": 85,
     "metadata": {},
     "output_type": "execute_result"
    }
   ],
   "source": [
    "f.write(\"-----------------This is Tom Cruise----------------\")"
   ]
  },
  {
   "cell_type": "code",
   "execution_count": 88,
   "id": "a8bdb98a",
   "metadata": {},
   "outputs": [
    {
     "data": {
      "text/plain": [
       "0"
      ]
     },
     "execution_count": 88,
     "metadata": {},
     "output_type": "execute_result"
    }
   ],
   "source": [
    "f.seek(0)"
   ]
  },
  {
   "cell_type": "code",
   "execution_count": 89,
   "id": "82f47d10",
   "metadata": {},
   "outputs": [
    {
     "data": {
      "text/plain": [
       "'When Rodrigo was still a youth, his father, Diego Laynez, was grossly insulted by Don Gomez. The custom in those days was to avenge such an insult by slaying the offender; but Diego was too old and feeble to bear arms. When he finally told his son of the wrong, Rodrigo sought out Don Gomez and challenged him to fight. So bravely and skilfully did Rodrigo manage his weapons that he slew his father\\'s enemy. Then he cut off the head and carried it to Diego.\\n\\nSoon after this Diego bade his son do homage at King Ferdinand\\'s court. Rodrigo appeared before the king, but his bearing was so defiant that Ferdinand was frightened, and banished him.\\n\\nRodrigo departed with three hundred followers, encountered some Moors, who were invading Castile, defeated them and took five of their kings captive, releasing them only after they had promised to pay tribute and to refrain from further warfare. It was these kings who first called him \"Cid.\"\\n\\nIn return for his brave service Rodrigo was restored to favor and given place among the king\\'s courtiers.\\n\\nOne day Dona Ximena, daughter of Don Gomez, appeared and demanded justice from the king. Recognizing Rodrigo among the courtiers, she called to him to slay her also. But both demand and cry were unheeded, for the king had been too well served by Rodrigo to listen to any accusation against him-----------------This is Tom Cruise----------------'"
      ]
     },
     "execution_count": 89,
     "metadata": {},
     "output_type": "execute_result"
    }
   ],
   "source": [
    "f.read()"
   ]
  },
  {
   "cell_type": "code",
   "execution_count": 90,
   "id": "739862ca",
   "metadata": {},
   "outputs": [],
   "source": [
    "f.close()"
   ]
  },
  {
   "cell_type": "code",
   "execution_count": 91,
   "id": "3d960313",
   "metadata": {},
   "outputs": [],
   "source": [
    "f=open(\"File2.txt\",\"r+\")"
   ]
  },
  {
   "cell_type": "code",
   "execution_count": 92,
   "id": "68311852",
   "metadata": {},
   "outputs": [
    {
     "data": {
      "text/plain": [
       "57"
      ]
     },
     "execution_count": 92,
     "metadata": {},
     "output_type": "execute_result"
    }
   ],
   "source": [
    "f.write(\"-------------Writing this at 5th position----------------\")"
   ]
  },
  {
   "cell_type": "code",
   "execution_count": 94,
   "id": "1cc4d5f3",
   "metadata": {},
   "outputs": [],
   "source": [
    "f.close()"
   ]
  },
  {
   "cell_type": "code",
   "execution_count": 95,
   "id": "c79b00be",
   "metadata": {},
   "outputs": [],
   "source": [
    "f=open(\"google.txt\",\"r+\")"
   ]
  },
  {
   "cell_type": "code",
   "execution_count": 96,
   "id": "370187ae",
   "metadata": {},
   "outputs": [],
   "source": [
    "a=f.readlines()"
   ]
  },
  {
   "cell_type": "code",
   "execution_count": 97,
   "id": "1e3596f0",
   "metadata": {},
   "outputs": [
    {
     "data": {
      "text/plain": [
       "9"
      ]
     },
     "execution_count": 97,
     "metadata": {},
     "output_type": "execute_result"
    }
   ],
   "source": [
    "len(a)"
   ]
  },
  {
   "cell_type": "code",
   "execution_count": 99,
   "id": "2fcac12b",
   "metadata": {},
   "outputs": [
    {
     "data": {
      "text/plain": [
       "0"
      ]
     },
     "execution_count": 99,
     "metadata": {},
     "output_type": "execute_result"
    }
   ],
   "source": [
    "f.seek(0)"
   ]
  },
  {
   "cell_type": "code",
   "execution_count": 100,
   "id": "c5f114a3",
   "metadata": {},
   "outputs": [],
   "source": [
    "b=a[0].split()"
   ]
  },
  {
   "cell_type": "code",
   "execution_count": 101,
   "id": "b7f34ef0",
   "metadata": {},
   "outputs": [
    {
     "data": {
      "text/plain": [
       "['When',\n",
       " 'Rodrigo',\n",
       " 'was',\n",
       " 'still',\n",
       " 'a',\n",
       " 'youth,',\n",
       " 'his',\n",
       " 'father,',\n",
       " 'Diego',\n",
       " 'Laynez,',\n",
       " 'was',\n",
       " 'grossly',\n",
       " 'insulted',\n",
       " 'by',\n",
       " 'Don',\n",
       " 'Gomez.',\n",
       " 'The',\n",
       " 'custom',\n",
       " 'in',\n",
       " 'those',\n",
       " 'days',\n",
       " 'was',\n",
       " 'to',\n",
       " 'avenge',\n",
       " 'such',\n",
       " 'an',\n",
       " 'insult',\n",
       " 'by',\n",
       " 'slaying',\n",
       " 'the',\n",
       " 'offender;',\n",
       " 'but',\n",
       " 'Diego',\n",
       " 'was',\n",
       " 'too',\n",
       " 'old',\n",
       " 'and',\n",
       " 'feeble',\n",
       " 'to',\n",
       " 'bear',\n",
       " 'arms.',\n",
       " 'When',\n",
       " 'he',\n",
       " 'finally',\n",
       " 'told',\n",
       " 'his',\n",
       " 'son',\n",
       " 'of',\n",
       " 'the',\n",
       " 'wrong,',\n",
       " 'Rodrigo',\n",
       " 'sought',\n",
       " 'out',\n",
       " 'Don',\n",
       " 'Gomez',\n",
       " 'and',\n",
       " 'challenged',\n",
       " 'him',\n",
       " 'to',\n",
       " 'fight.',\n",
       " 'So',\n",
       " 'bravely',\n",
       " 'and',\n",
       " 'skilfully',\n",
       " 'did',\n",
       " 'Rodrigo',\n",
       " 'manage',\n",
       " 'his',\n",
       " 'weapons',\n",
       " 'that',\n",
       " 'he',\n",
       " 'slew',\n",
       " 'his',\n",
       " \"father's\",\n",
       " 'enemy.',\n",
       " 'Then',\n",
       " 'he',\n",
       " 'cut',\n",
       " 'off',\n",
       " 'the',\n",
       " 'head',\n",
       " 'and',\n",
       " 'carried',\n",
       " 'it',\n",
       " 'to',\n",
       " 'Diego.']"
      ]
     },
     "execution_count": 101,
     "metadata": {},
     "output_type": "execute_result"
    }
   ],
   "source": [
    "b"
   ]
  },
  {
   "cell_type": "code",
   "execution_count": 102,
   "id": "6843e5de",
   "metadata": {},
   "outputs": [],
   "source": [
    "l=[]\n",
    "for i in b:\n",
    "    l.append(i[0])"
   ]
  },
  {
   "cell_type": "code",
   "execution_count": 103,
   "id": "d13e7a20",
   "metadata": {},
   "outputs": [
    {
     "data": {
      "text/plain": [
       "['W',\n",
       " 'R',\n",
       " 'w',\n",
       " 's',\n",
       " 'a',\n",
       " 'y',\n",
       " 'h',\n",
       " 'f',\n",
       " 'D',\n",
       " 'L',\n",
       " 'w',\n",
       " 'g',\n",
       " 'i',\n",
       " 'b',\n",
       " 'D',\n",
       " 'G',\n",
       " 'T',\n",
       " 'c',\n",
       " 'i',\n",
       " 't',\n",
       " 'd',\n",
       " 'w',\n",
       " 't',\n",
       " 'a',\n",
       " 's',\n",
       " 'a',\n",
       " 'i',\n",
       " 'b',\n",
       " 's',\n",
       " 't',\n",
       " 'o',\n",
       " 'b',\n",
       " 'D',\n",
       " 'w',\n",
       " 't',\n",
       " 'o',\n",
       " 'a',\n",
       " 'f',\n",
       " 't',\n",
       " 'b',\n",
       " 'a',\n",
       " 'W',\n",
       " 'h',\n",
       " 'f',\n",
       " 't',\n",
       " 'h',\n",
       " 's',\n",
       " 'o',\n",
       " 't',\n",
       " 'w',\n",
       " 'R',\n",
       " 's',\n",
       " 'o',\n",
       " 'D',\n",
       " 'G',\n",
       " 'a',\n",
       " 'c',\n",
       " 'h',\n",
       " 't',\n",
       " 'f',\n",
       " 'S',\n",
       " 'b',\n",
       " 'a',\n",
       " 's',\n",
       " 'd',\n",
       " 'R',\n",
       " 'm',\n",
       " 'h',\n",
       " 'w',\n",
       " 't',\n",
       " 'h',\n",
       " 's',\n",
       " 'h',\n",
       " 'f',\n",
       " 'e',\n",
       " 'T',\n",
       " 'h',\n",
       " 'c',\n",
       " 'o',\n",
       " 't',\n",
       " 'h',\n",
       " 'a',\n",
       " 'c',\n",
       " 'i',\n",
       " 't',\n",
       " 'D']"
      ]
     },
     "execution_count": 103,
     "metadata": {},
     "output_type": "execute_result"
    }
   ],
   "source": [
    "l"
   ]
  },
  {
   "cell_type": "code",
   "execution_count": 104,
   "id": "5a954673",
   "metadata": {},
   "outputs": [],
   "source": [
    "f.close()"
   ]
  },
  {
   "cell_type": "code",
   "execution_count": 105,
   "id": "49eaf679",
   "metadata": {},
   "outputs": [],
   "source": [
    "f=open(\"File1.txt\",\"r+\")"
   ]
  },
  {
   "cell_type": "code",
   "execution_count": 107,
   "id": "dbf19938",
   "metadata": {},
   "outputs": [
    {
     "data": {
      "text/plain": [
       "'File1.txt'"
      ]
     },
     "execution_count": 107,
     "metadata": {},
     "output_type": "execute_result"
    }
   ],
   "source": [
    "f.name"
   ]
  },
  {
   "cell_type": "code",
   "execution_count": 118,
   "id": "802b0ddc",
   "metadata": {},
   "outputs": [
    {
     "data": {
      "text/plain": [
       "11"
      ]
     },
     "execution_count": 118,
     "metadata": {},
     "output_type": "execute_result"
    }
   ],
   "source": [
    "f.write(\"I am dinesh\")"
   ]
  },
  {
   "cell_type": "code",
   "execution_count": 119,
   "id": "e468b185",
   "metadata": {},
   "outputs": [],
   "source": [
    "l=[\"dog \",\"cat \",\" rat \"]"
   ]
  },
  {
   "cell_type": "code",
   "execution_count": 121,
   "id": "a9afe6ec",
   "metadata": {},
   "outputs": [],
   "source": [
    "f.writelines(l)"
   ]
  },
  {
   "cell_type": "code",
   "execution_count": 122,
   "id": "c4696ebb",
   "metadata": {},
   "outputs": [
    {
     "data": {
      "text/plain": [
       "''"
      ]
     },
     "execution_count": 122,
     "metadata": {},
     "output_type": "execute_result"
    }
   ],
   "source": [
    "f.read()"
   ]
  },
  {
   "cell_type": "code",
   "execution_count": 123,
   "id": "2e9d0996",
   "metadata": {},
   "outputs": [
    {
     "data": {
      "text/plain": [
       "0"
      ]
     },
     "execution_count": 123,
     "metadata": {},
     "output_type": "execute_result"
    }
   ],
   "source": [
    "f.seek(0)"
   ]
  },
  {
   "cell_type": "code",
   "execution_count": 124,
   "id": "fbe93779",
   "metadata": {},
   "outputs": [
    {
     "data": {
      "text/plain": [
       "'This is DogThis is catThis is horseThis is ElephanThis is Dog This is cat This is horse This is Elephant I am dineshdog cat  rat '"
      ]
     },
     "execution_count": 124,
     "metadata": {},
     "output_type": "execute_result"
    }
   ],
   "source": [
    "f.read()"
   ]
  },
  {
   "cell_type": "code",
   "execution_count": 128,
   "id": "74b78aee",
   "metadata": {},
   "outputs": [],
   "source": [
    "import os"
   ]
  },
  {
   "cell_type": "code",
   "execution_count": 131,
   "id": "a75a8daf",
   "metadata": {},
   "outputs": [],
   "source": [
    "os.remove(\"File2.txt\")"
   ]
  },
  {
   "cell_type": "code",
   "execution_count": 132,
   "id": "740f1353",
   "metadata": {},
   "outputs": [
    {
     "name": "stdout",
     "output_type": "stream",
     "text": [
      " Volume in drive C is Windows\n",
      " Volume Serial Number is 848B-8E2F\n",
      "\n",
      " Directory of C:\\Users\\V.Dinesh Babu\\Downloads\\Data science by ineuron\\Python\n",
      "\n",
      "11/19/2022  08:54 PM    <DIR>          .\n",
      "11/12/2022  12:26 PM    <DIR>          ..\n",
      "11/19/2022  07:07 PM    <DIR>          .ipynb_checkpoints\n",
      "11/02/2022  07:19 PM            59,629 Day1.ipynb\n",
      "11/18/2022  10:00 PM            66,292 Day10-Iterable ,Iterator and Generator.ipynb\n",
      "11/19/2022  08:53 PM            38,332 Day11-File Handling.ipynb\n",
      "11/08/2022  08:30 AM            47,025 Day2.ipynb\n",
      "11/08/2022  08:49 AM            48,676 Day3.ipynb\n",
      "11/09/2022  10:16 AM            84,239 Day4-Strings.ipynb\n",
      "11/10/2022  09:52 AM            43,154 Day5-Contol statements.ipynb\n",
      "11/11/2022  06:09 PM           114,591 Day6-Lists.ipynb\n",
      "11/13/2022  07:09 PM            29,091 Day7-Tuple,Set.ipynb\n",
      "11/12/2022  06:06 PM            30,005 Day8-Dictionary.ipynb\n",
      "11/18/2022  09:51 PM            74,733 Day9 -Functions .ipynb\n",
      "11/19/2022  08:53 PM               129 file1.txt\n",
      "11/19/2022  08:03 PM               288 File3.txt\n",
      "11/19/2022  08:03 PM                56 File4.txt\n",
      "11/19/2022  08:16 PM                82 file5.txt\n",
      "11/19/2022  08:32 PM             1,400 google.txt\n",
      "11/19/2022  07:04 PM            36,194 Practice questions.ipynb\n",
      "11/13/2022  11:49 AM               576 PyForest.ipynb\n",
      "              18 File(s)        674,492 bytes\n",
      "               3 Dir(s)  109,540,974,592 bytes free\n"
     ]
    }
   ],
   "source": [
    "ls"
   ]
  },
  {
   "cell_type": "code",
   "execution_count": 133,
   "id": "19c7eb6b",
   "metadata": {},
   "outputs": [
    {
     "data": {
      "text/plain": [
       "'C:\\\\Users\\\\V.Dinesh Babu\\\\Downloads\\\\Data science by ineuron\\\\Python'"
      ]
     },
     "execution_count": 133,
     "metadata": {},
     "output_type": "execute_result"
    }
   ],
   "source": [
    "os.getcwd()"
   ]
  },
  {
   "cell_type": "code",
   "execution_count": 134,
   "id": "14d3b498",
   "metadata": {},
   "outputs": [
    {
     "data": {
      "text/plain": [
       "'C:\\\\Users\\\\V.Dinesh Babu\\\\Downloads\\\\Data science by ineuron\\\\Python'"
      ]
     },
     "execution_count": 134,
     "metadata": {},
     "output_type": "execute_result"
    }
   ],
   "source": [
    "pwd()"
   ]
  },
  {
   "cell_type": "code",
   "execution_count": 135,
   "id": "2e2f3d8d",
   "metadata": {},
   "outputs": [
    {
     "data": {
      "text/plain": [
       "['.ipynb_checkpoints',\n",
       " 'Day1.ipynb',\n",
       " 'Day10-Iterable ,Iterator and Generator.ipynb',\n",
       " 'Day11-File Handling.ipynb',\n",
       " 'Day2.ipynb',\n",
       " 'Day3.ipynb',\n",
       " 'Day4-Strings.ipynb',\n",
       " 'Day5-Contol statements.ipynb',\n",
       " 'Day6-Lists.ipynb',\n",
       " 'Day7-Tuple,Set.ipynb',\n",
       " 'Day8-Dictionary.ipynb',\n",
       " 'Day9 -Functions .ipynb',\n",
       " 'file1.txt',\n",
       " 'File3.txt',\n",
       " 'File4.txt',\n",
       " 'file5.txt',\n",
       " 'google.txt',\n",
       " 'Practice questions.ipynb',\n",
       " 'PyForest.ipynb']"
      ]
     },
     "execution_count": 135,
     "metadata": {},
     "output_type": "execute_result"
    }
   ],
   "source": [
    "os.listdir()"
   ]
  },
  {
   "cell_type": "markdown",
   "id": "2aa3dbad",
   "metadata": {},
   "source": [
    "# Access modes\n",
    "     For text files\n",
    "     --------------\n",
    "    1.r- reading\n",
    "    2.w- writing\n",
    "    3.a- appending/writing\n",
    "    4.r+ - reading/writing\n",
    "    5.w+ - reading/Writing\n",
    "    6.a+ -reading/appending\n",
    "    \n",
    "    For Binary Files\n",
    "    ----------------\n",
    "    rb- reading \n",
    "    wb- writing\n",
    "    ab- appending\n",
    "    rb+ -reading& writing\n",
    "    wb+ -reading& writing\n",
    "    ab+ -Appending& Reading"
   ]
  },
  {
   "cell_type": "code",
   "execution_count": null,
   "id": "d433ac7d",
   "metadata": {},
   "outputs": [],
   "source": []
  }
 ],
 "metadata": {
  "kernelspec": {
   "display_name": "Python 3",
   "language": "python",
   "name": "python3"
  },
  "language_info": {
   "codemirror_mode": {
    "name": "ipython",
    "version": 3
   },
   "file_extension": ".py",
   "mimetype": "text/x-python",
   "name": "python",
   "nbconvert_exporter": "python",
   "pygments_lexer": "ipython3",
   "version": "3.8.8"
  }
 },
 "nbformat": 4,
 "nbformat_minor": 5
}
