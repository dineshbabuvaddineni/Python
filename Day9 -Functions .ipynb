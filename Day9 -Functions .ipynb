{
 "cells": [
  {
   "cell_type": "markdown",
   "id": "20e61f74",
   "metadata": {},
   "source": [
    "# Functions "
   ]
  },
  {
   "cell_type": "markdown",
   "id": "236ad660",
   "metadata": {},
   "source": [
    "- Def: Functions are set of instructions to perform specifc task."
   ]
  },
  {
   "cell_type": "code",
   "execution_count": 1,
   "id": "1fd138db",
   "metadata": {},
   "outputs": [
    {
     "data": {
      "text/plain": [
       "6"
      ]
     },
     "execution_count": 1,
     "metadata": {},
     "output_type": "execute_result"
    }
   ],
   "source": [
    "len(\"Dinesh\") #This  function which I used right now is predefined by some one."
   ]
  },
  {
   "cell_type": "code",
   "execution_count": 1,
   "id": "1ceb96e7",
   "metadata": {},
   "outputs": [
    {
     "name": "stdout",
     "output_type": "stream",
     "text": [
      "Dinesh\n"
     ]
    }
   ],
   "source": [
    "print(\"Dinesh\")   "
   ]
  },
  {
   "cell_type": "markdown",
   "id": "27ea733b",
   "metadata": {},
   "source": [
    "# Creating our own Function"
   ]
  },
  {
   "cell_type": "code",
   "execution_count": 3,
   "id": "e708e5f1",
   "metadata": {},
   "outputs": [
    {
     "ename": "SyntaxError",
     "evalue": "unexpected EOF while parsing (<ipython-input-3-5d287e34fa81>, line 2)",
     "output_type": "error",
     "traceback": [
      "\u001b[1;36m  File \u001b[1;32m\"<ipython-input-3-5d287e34fa81>\"\u001b[1;36m, line \u001b[1;32m2\u001b[0m\n\u001b[1;33m    \u001b[0m\n\u001b[1;37m    ^\u001b[0m\n\u001b[1;31mSyntaxError\u001b[0m\u001b[1;31m:\u001b[0m unexpected EOF while parsing\n"
     ]
    }
   ],
   "source": [
    "def test():\n",
    "    "
   ]
  },
  {
   "cell_type": "code",
   "execution_count": 4,
   "id": "0a6e4792",
   "metadata": {},
   "outputs": [],
   "source": [
    "def test1():\n",
    "    print(\"This is my first function\")\n"
   ]
  },
  {
   "cell_type": "code",
   "execution_count": 5,
   "id": "22aa904c",
   "metadata": {},
   "outputs": [
    {
     "name": "stdout",
     "output_type": "stream",
     "text": [
      "This is my first function\n"
     ]
    }
   ],
   "source": [
    "test1()"
   ]
  },
  {
   "cell_type": "code",
   "execution_count": 6,
   "id": "f1e17514",
   "metadata": {},
   "outputs": [
    {
     "name": "stdout",
     "output_type": "stream",
     "text": [
      "This is my first function\n"
     ]
    }
   ],
   "source": [
    "test1() #We can this function any number of times "
   ]
  },
  {
   "cell_type": "code",
   "execution_count": 8,
   "id": "b5fd66c4",
   "metadata": {},
   "outputs": [
    {
     "name": "stdout",
     "output_type": "stream",
     "text": [
      "This is my first function\n"
     ]
    }
   ],
   "source": [
    "a=test1()"
   ]
  },
  {
   "cell_type": "code",
   "execution_count": 10,
   "id": "a0c1e7ab",
   "metadata": {},
   "outputs": [
    {
     "ename": "TypeError",
     "evalue": "unsupported operand type(s) for +: 'NoneType' and 'str'",
     "output_type": "error",
     "traceback": [
      "\u001b[1;31m---------------------------------------------------------------------------\u001b[0m",
      "\u001b[1;31mTypeError\u001b[0m                                 Traceback (most recent call last)",
      "\u001b[1;32m<ipython-input-10-cc9b586e2bcf>\u001b[0m in \u001b[0;36m<module>\u001b[1;34m\u001b[0m\n\u001b[1;32m----> 1\u001b[1;33m \u001b[0ma\u001b[0m\u001b[1;33m+\u001b[0m\u001b[1;34m\"dinesh\"\u001b[0m\u001b[1;33m\u001b[0m\u001b[1;33m\u001b[0m\u001b[0m\n\u001b[0m",
      "\u001b[1;31mTypeError\u001b[0m: unsupported operand type(s) for +: 'NoneType' and 'str'"
     ]
    }
   ],
   "source": [
    "a+\"dinesh\""
   ]
  },
  {
   "cell_type": "code",
   "execution_count": 12,
   "id": "594dae1a",
   "metadata": {},
   "outputs": [
    {
     "name": "stdout",
     "output_type": "stream",
     "text": [
      "This is my first function\n"
     ]
    },
    {
     "ename": "TypeError",
     "evalue": "unsupported operand type(s) for +: 'NoneType' and 'str'",
     "output_type": "error",
     "traceback": [
      "\u001b[1;31m---------------------------------------------------------------------------\u001b[0m",
      "\u001b[1;31mTypeError\u001b[0m                                 Traceback (most recent call last)",
      "\u001b[1;32m<ipython-input-12-97cdf9ba6910>\u001b[0m in \u001b[0;36m<module>\u001b[1;34m\u001b[0m\n\u001b[1;32m----> 1\u001b[1;33m \u001b[0mtest1\u001b[0m\u001b[1;33m(\u001b[0m\u001b[1;33m)\u001b[0m\u001b[1;33m+\u001b[0m\u001b[1;34m\"dinesh\"\u001b[0m\u001b[1;33m\u001b[0m\u001b[1;33m\u001b[0m\u001b[0m\n\u001b[0m",
      "\u001b[1;31mTypeError\u001b[0m: unsupported operand type(s) for +: 'NoneType' and 'str'"
     ]
    }
   ],
   "source": [
    "test1()+\"dinesh\""
   ]
  },
  {
   "cell_type": "code",
   "execution_count": 11,
   "id": "fce49115",
   "metadata": {},
   "outputs": [
    {
     "data": {
      "text/plain": [
       "NoneType"
      ]
     },
     "execution_count": 11,
     "metadata": {},
     "output_type": "execute_result"
    }
   ],
   "source": [
    "type(a)"
   ]
  },
  {
   "cell_type": "code",
   "execution_count": 13,
   "id": "b0fec1fc",
   "metadata": {},
   "outputs": [
    {
     "data": {
      "text/plain": [
       "'None'"
      ]
     },
     "execution_count": 13,
     "metadata": {},
     "output_type": "execute_result"
    }
   ],
   "source": [
    "str(a)"
   ]
  },
  {
   "cell_type": "code",
   "execution_count": 16,
   "id": "6a2048e9",
   "metadata": {},
   "outputs": [],
   "source": [
    "def test2():\n",
    "    return \"Dinesh \""
   ]
  },
  {
   "cell_type": "code",
   "execution_count": 17,
   "id": "bdd64d5a",
   "metadata": {},
   "outputs": [
    {
     "data": {
      "text/plain": [
       "'Dinesh Babu'"
      ]
     },
     "execution_count": 17,
     "metadata": {},
     "output_type": "execute_result"
    }
   ],
   "source": [
    "test2()+\"Babu\"\n"
   ]
  },
  {
   "cell_type": "code",
   "execution_count": 18,
   "id": "19135885",
   "metadata": {},
   "outputs": [],
   "source": [
    "def test3():\n",
    "    return 8053\n"
   ]
  },
  {
   "cell_type": "code",
   "execution_count": 19,
   "id": "924d188f",
   "metadata": {},
   "outputs": [
    {
     "data": {
      "text/plain": [
       "8053"
      ]
     },
     "execution_count": 19,
     "metadata": {},
     "output_type": "execute_result"
    }
   ],
   "source": [
    "test3()"
   ]
  },
  {
   "cell_type": "code",
   "execution_count": 21,
   "id": "c3106fe5",
   "metadata": {},
   "outputs": [
    {
     "data": {
      "text/plain": [
       "int"
      ]
     },
     "execution_count": 21,
     "metadata": {},
     "output_type": "execute_result"
    }
   ],
   "source": [
    "type(test3())"
   ]
  },
  {
   "cell_type": "code",
   "execution_count": 22,
   "id": "d90a0d0a",
   "metadata": {},
   "outputs": [],
   "source": [
    "def test4():\n",
    "    return 1,'a',[1,2,3,4]"
   ]
  },
  {
   "cell_type": "code",
   "execution_count": 24,
   "id": "d9c380a1",
   "metadata": {},
   "outputs": [
    {
     "data": {
      "text/plain": [
       "(1, 'a', [1, 2, 3, 4])"
      ]
     },
     "execution_count": 24,
     "metadata": {},
     "output_type": "execute_result"
    }
   ],
   "source": [
    "test4() #returns tuple"
   ]
  },
  {
   "cell_type": "code",
   "execution_count": 25,
   "id": "21d8f110",
   "metadata": {},
   "outputs": [],
   "source": [
    "b=test4()"
   ]
  },
  {
   "cell_type": "code",
   "execution_count": 26,
   "id": "2cc4f895",
   "metadata": {},
   "outputs": [
    {
     "data": {
      "text/plain": [
       "(1, 'a', [1, 2, 3, 4])"
      ]
     },
     "execution_count": 26,
     "metadata": {},
     "output_type": "execute_result"
    }
   ],
   "source": [
    "b"
   ]
  },
  {
   "cell_type": "code",
   "execution_count": 27,
   "id": "ed17d903",
   "metadata": {},
   "outputs": [
    {
     "data": {
      "text/plain": [
       "[1, 2, 3, 4]"
      ]
     },
     "execution_count": 27,
     "metadata": {},
     "output_type": "execute_result"
    }
   ],
   "source": [
    "b[2]"
   ]
  },
  {
   "cell_type": "code",
   "execution_count": 29,
   "id": "24dc4842",
   "metadata": {},
   "outputs": [],
   "source": [
    "a=1\n",
    "b=5\n",
    "c=\"Dinesh\"\n",
    "d=[12,13,14,15]"
   ]
  },
  {
   "cell_type": "code",
   "execution_count": 30,
   "id": "33a5ff2f",
   "metadata": {},
   "outputs": [],
   "source": [
    "a,b,c,d=34,45,\"dinesh\",\"babu\""
   ]
  },
  {
   "cell_type": "code",
   "execution_count": 31,
   "id": "90814c46",
   "metadata": {},
   "outputs": [],
   "source": [
    "x,y,z=test4()"
   ]
  },
  {
   "cell_type": "code",
   "execution_count": 32,
   "id": "f2077c43",
   "metadata": {},
   "outputs": [
    {
     "data": {
      "text/plain": [
       "1"
      ]
     },
     "execution_count": 32,
     "metadata": {},
     "output_type": "execute_result"
    }
   ],
   "source": [
    "x"
   ]
  },
  {
   "cell_type": "code",
   "execution_count": 33,
   "id": "680a9877",
   "metadata": {},
   "outputs": [
    {
     "data": {
      "text/plain": [
       "'a'"
      ]
     },
     "execution_count": 33,
     "metadata": {},
     "output_type": "execute_result"
    }
   ],
   "source": [
    "y"
   ]
  },
  {
   "cell_type": "code",
   "execution_count": 34,
   "id": "2840b4ea",
   "metadata": {},
   "outputs": [
    {
     "data": {
      "text/plain": [
       "[1, 2, 3, 4]"
      ]
     },
     "execution_count": 34,
     "metadata": {},
     "output_type": "execute_result"
    }
   ],
   "source": [
    "z"
   ]
  },
  {
   "cell_type": "code",
   "execution_count": 35,
   "id": "25c53ef2",
   "metadata": {},
   "outputs": [],
   "source": [
    "def test5():\n",
    "    a=6*3/2\n",
    "    return a"
   ]
  },
  {
   "cell_type": "code",
   "execution_count": 36,
   "id": "976e578e",
   "metadata": {},
   "outputs": [
    {
     "data": {
      "text/plain": [
       "9.0"
      ]
     },
     "execution_count": 36,
     "metadata": {},
     "output_type": "execute_result"
    }
   ],
   "source": [
    "test5()"
   ]
  },
  {
   "cell_type": "code",
   "execution_count": 37,
   "id": "9f11a11f",
   "metadata": {},
   "outputs": [
    {
     "data": {
      "text/plain": [
       "6"
      ]
     },
     "execution_count": 37,
     "metadata": {},
     "output_type": "execute_result"
    }
   ],
   "source": [
    "len(\"Dinesh\")"
   ]
  },
  {
   "cell_type": "code",
   "execution_count": 38,
   "id": "232307cf",
   "metadata": {},
   "outputs": [],
   "source": [
    "l=[1,2,3,\"dinesh\"4,\"hari\",5]"
   ]
  },
  {
   "cell_type": "code",
   "execution_count": 55,
   "id": "69b2f290",
   "metadata": {},
   "outputs": [],
   "source": [
    "def test6(a):\n",
    "    n=[]\n",
    "    if type(a)==list:\n",
    "        for i in a:\n",
    "            if type(i)==int:\n",
    "                n.append(i)\n",
    "    return n\n",
    "            \n",
    "        "
   ]
  },
  {
   "cell_type": "code",
   "execution_count": 56,
   "id": "bb4bb5a7",
   "metadata": {},
   "outputs": [
    {
     "ename": "TypeError",
     "evalue": "test6() missing 1 required positional argument: 'a'",
     "output_type": "error",
     "traceback": [
      "\u001b[1;31m---------------------------------------------------------------------------\u001b[0m",
      "\u001b[1;31mTypeError\u001b[0m                                 Traceback (most recent call last)",
      "\u001b[1;32m<ipython-input-56-b3f44c11fe72>\u001b[0m in \u001b[0;36m<module>\u001b[1;34m\u001b[0m\n\u001b[1;32m----> 1\u001b[1;33m \u001b[0mtest6\u001b[0m\u001b[1;33m(\u001b[0m\u001b[1;33m)\u001b[0m\u001b[1;33m\u001b[0m\u001b[1;33m\u001b[0m\u001b[0m\n\u001b[0m",
      "\u001b[1;31mTypeError\u001b[0m: test6() missing 1 required positional argument: 'a'"
     ]
    }
   ],
   "source": [
    "test6()"
   ]
  },
  {
   "cell_type": "code",
   "execution_count": 57,
   "id": "ec93d62b",
   "metadata": {},
   "outputs": [
    {
     "data": {
      "text/plain": [
       "[1, 2, 3, 4, 5]"
      ]
     },
     "execution_count": 57,
     "metadata": {},
     "output_type": "execute_result"
    }
   ],
   "source": [
    "test6(l)"
   ]
  },
  {
   "cell_type": "code",
   "execution_count": 58,
   "id": "3a7b565b",
   "metadata": {},
   "outputs": [],
   "source": [
    "b=[2,3+3j,\"cat\"] #again using the test6() function with another list"
   ]
  },
  {
   "cell_type": "code",
   "execution_count": 59,
   "id": "ae8720a2",
   "metadata": {},
   "outputs": [
    {
     "data": {
      "text/plain": [
       "[2]"
      ]
     },
     "execution_count": 59,
     "metadata": {},
     "output_type": "execute_result"
    }
   ],
   "source": [
    "test6(b)"
   ]
  },
  {
   "cell_type": "code",
   "execution_count": 63,
   "id": "31a5b6fa",
   "metadata": {},
   "outputs": [],
   "source": [
    "def test7(c):\n",
    "    if type(c)==dict:\n",
    "        return c.keys()\n",
    "    else:\n",
    "        return \"you have not passed a dictionary\""
   ]
  },
  {
   "cell_type": "code",
   "execution_count": 64,
   "id": "b062c2e2",
   "metadata": {},
   "outputs": [
    {
     "data": {
      "text/plain": [
       "'you have not passed a dictionary'"
      ]
     },
     "execution_count": 64,
     "metadata": {},
     "output_type": "execute_result"
    }
   ],
   "source": [
    "test7(\"dinesh\")"
   ]
  },
  {
   "cell_type": "code",
   "execution_count": 65,
   "id": "ef212601",
   "metadata": {},
   "outputs": [
    {
     "data": {
      "text/plain": [
       "dict_keys(['watch', 'bag', 'pen'])"
      ]
     },
     "execution_count": 65,
     "metadata": {},
     "output_type": "execute_result"
    }
   ],
   "source": [
    "test7({\"watch\":500, \"bag\":600, \"pen\":5})"
   ]
  },
  {
   "cell_type": "code",
   "execution_count": 72,
   "id": "3dcfe262",
   "metadata": {},
   "outputs": [],
   "source": [
    "def test8(a,b):\n",
    "    if type(a)==list and type(b)==list:\n",
    "        return a.extend(b)\n",
    "    else:\n",
    "        return \"Either of your data is not a list\""
   ]
  },
  {
   "cell_type": "code",
   "execution_count": 74,
   "id": "6dc76a80",
   "metadata": {},
   "outputs": [
    {
     "ename": "TypeError",
     "evalue": "test8() missing 1 required positional argument: 'b'",
     "output_type": "error",
     "traceback": [
      "\u001b[1;31m---------------------------------------------------------------------------\u001b[0m",
      "\u001b[1;31mTypeError\u001b[0m                                 Traceback (most recent call last)",
      "\u001b[1;32m<ipython-input-74-3665bcddc711>\u001b[0m in \u001b[0;36m<module>\u001b[1;34m\u001b[0m\n\u001b[1;32m----> 1\u001b[1;33m \u001b[0mtest8\u001b[0m\u001b[1;33m(\u001b[0m\u001b[1;36m1\u001b[0m\u001b[1;33m)\u001b[0m\u001b[1;33m\u001b[0m\u001b[1;33m\u001b[0m\u001b[0m\n\u001b[0m",
      "\u001b[1;31mTypeError\u001b[0m: test8() missing 1 required positional argument: 'b'"
     ]
    }
   ],
   "source": [
    "test8(1)"
   ]
  },
  {
   "cell_type": "code",
   "execution_count": 75,
   "id": "b5704ddc",
   "metadata": {},
   "outputs": [
    {
     "ename": "TypeError",
     "evalue": "test8() missing 1 required positional argument: 'b'",
     "output_type": "error",
     "traceback": [
      "\u001b[1;31m---------------------------------------------------------------------------\u001b[0m",
      "\u001b[1;31mTypeError\u001b[0m                                 Traceback (most recent call last)",
      "\u001b[1;32m<ipython-input-75-13b63c8e4f7b>\u001b[0m in \u001b[0;36m<module>\u001b[1;34m\u001b[0m\n\u001b[1;32m----> 1\u001b[1;33m \u001b[0mtest8\u001b[0m\u001b[1;33m(\u001b[0m\u001b[1;33m[\u001b[0m\u001b[1;36m1\u001b[0m\u001b[1;33m,\u001b[0m\u001b[1;36m2\u001b[0m\u001b[1;33m,\u001b[0m\u001b[1;36m3\u001b[0m\u001b[1;33m]\u001b[0m\u001b[1;33m)\u001b[0m\u001b[1;33m\u001b[0m\u001b[1;33m\u001b[0m\u001b[0m\n\u001b[0m",
      "\u001b[1;31mTypeError\u001b[0m: test8() missing 1 required positional argument: 'b'"
     ]
    }
   ],
   "source": [
    "test8([1,2,3])"
   ]
  },
  {
   "cell_type": "code",
   "execution_count": 77,
   "id": "dd3ad81e",
   "metadata": {},
   "outputs": [],
   "source": [
    "a=[1,2,3]\n",
    "b=[3,4,5]\n",
    "test8(a,b)"
   ]
  },
  {
   "cell_type": "code",
   "execution_count": 78,
   "id": "24daa8d6",
   "metadata": {},
   "outputs": [
    {
     "data": {
      "text/plain": [
       "[1, 2, 3, 3, 4, 5]"
      ]
     },
     "execution_count": 78,
     "metadata": {},
     "output_type": "execute_result"
    }
   ],
   "source": [
    "a"
   ]
  },
  {
   "cell_type": "code",
   "execution_count": 80,
   "id": "3303105a",
   "metadata": {},
   "outputs": [],
   "source": [
    "def test8(a,b):\n",
    "    if type(a)==list and type(b)==list:\n",
    "        a.extend(b)\n",
    "        return a\n",
    "    else:\n",
    "        return \"Either of your data is not a list\""
   ]
  },
  {
   "cell_type": "code",
   "execution_count": 81,
   "id": "de9af042",
   "metadata": {},
   "outputs": [
    {
     "data": {
      "text/plain": [
       "[1, 2, 3, 4]"
      ]
     },
     "execution_count": 81,
     "metadata": {},
     "output_type": "execute_result"
    }
   ],
   "source": [
    "test8([1,2],[3,4])"
   ]
  },
  {
   "cell_type": "code",
   "execution_count": 82,
   "id": "ce591ac3",
   "metadata": {},
   "outputs": [],
   "source": [
    "def triangle(rows):\n",
    "    if type(rows)==int:\n",
    "        for i in range(1,rows):\n",
    "            for j in range(i):\n",
    "                print(\"*\",end=\"\")\n",
    "            print(\"\\n\")"
   ]
  },
  {
   "cell_type": "code",
   "execution_count": 85,
   "id": "1a4dce64",
   "metadata": {},
   "outputs": [
    {
     "name": "stdout",
     "output_type": "stream",
     "text": [
      "*\n",
      "\n",
      "**\n",
      "\n",
      "***\n",
      "\n",
      "****\n",
      "\n",
      "*****\n",
      "\n",
      "******\n",
      "\n",
      "*******\n",
      "\n"
     ]
    }
   ],
   "source": [
    "triangle(8)"
   ]
  },
  {
   "cell_type": "code",
   "execution_count": 92,
   "id": "faafa029",
   "metadata": {},
   "outputs": [
    {
     "name": "stdout",
     "output_type": "stream",
     "text": [
      "      * \n",
      "\n",
      "     * * \n",
      "\n",
      "    * * * \n",
      "\n",
      "   * * * * \n",
      "\n",
      "  * * * * * \n",
      "\n",
      " * * * * * * \n",
      "\n",
      "* * * * * * * \n",
      "\n"
     ]
    }
   ],
   "source": [
    "def create_triangle(row_num):\n",
    "    n=row_num\n",
    "    k=n-1\n",
    "    for i in range(0,n):\n",
    "        for j in range(0,k):\n",
    "            print(end=\" \")\n",
    "        k=k-1\n",
    "        for j in range(0,i+1):\n",
    "            print(\"* \",end=\"\")\n",
    "        print(\"\\n\")\n",
    "create_triangle(7)\n",
    "            "
   ]
  },
  {
   "cell_type": "code",
   "execution_count": 99,
   "id": "64bf94b1",
   "metadata": {},
   "outputs": [],
   "source": [
    "def triangle(n):\n",
    "    \"This function helps us to create a triangle pattern\"\n",
    "    for i in range(0,n):\n",
    "        for j in range(0,i+1):\n",
    "            print(\"*\",end=\"\")\n",
    "        print(\"\")"
   ]
  },
  {
   "cell_type": "code",
   "execution_count": 98,
   "id": "4f40ec8c",
   "metadata": {},
   "outputs": [
    {
     "name": "stdout",
     "output_type": "stream",
     "text": [
      "*\n",
      "**\n",
      "***\n",
      "****\n",
      "*****\n",
      "******\n",
      "*******\n",
      "********\n",
      "*********\n",
      "**********\n"
     ]
    }
   ],
   "source": [
    "triangle(10)"
   ]
  },
  {
   "cell_type": "code",
   "execution_count": 100,
   "id": "07ce51d8",
   "metadata": {},
   "outputs": [
    {
     "data": {
      "text/plain": [
       "'This function helps us to create a triangle pattern'"
      ]
     },
     "execution_count": 100,
     "metadata": {},
     "output_type": "execute_result"
    }
   ],
   "source": [
    "triangle.__doc__"
   ]
  },
  {
   "cell_type": "code",
   "execution_count": 102,
   "id": "94459f38",
   "metadata": {},
   "outputs": [
    {
     "name": "stdout",
     "output_type": "stream",
     "text": [
      "*\n",
      "**\n",
      "***\n",
      "****\n",
      "*****\n",
      "Help on NoneType object:\n",
      "\n",
      "class NoneType(object)\n",
      " |  Methods defined here:\n",
      " |  \n",
      " |  __bool__(self, /)\n",
      " |      self != 0\n",
      " |  \n",
      " |  __repr__(self, /)\n",
      " |      Return repr(self).\n",
      " |  \n",
      " |  ----------------------------------------------------------------------\n",
      " |  Static methods defined here:\n",
      " |  \n",
      " |  __new__(*args, **kwargs) from builtins.type\n",
      " |      Create and return a new object.  See help(type) for accurate signature.\n",
      "\n"
     ]
    }
   ],
   "source": [
    "help(triangle(5))"
   ]
  },
  {
   "cell_type": "code",
   "execution_count": 103,
   "id": "f47e37ad",
   "metadata": {},
   "outputs": [
    {
     "name": "stdout",
     "output_type": "stream",
     "text": [
      "Help on function triangle in module __main__:\n",
      "\n",
      "triangle(n)\n",
      "    This function helps us to create a triangle pattern\n",
      "\n"
     ]
    }
   ],
   "source": [
    "help(triangle)"
   ]
  },
  {
   "cell_type": "markdown",
   "id": "4c321323",
   "metadata": {},
   "source": [
    "# Types of arguments\n",
    "- Required arguments\n",
    "- Variable length arguments\n",
    "- Keyword arguments\n",
    "- Default arguments"
   ]
  },
  {
   "cell_type": "markdown",
   "id": "00e8eede",
   "metadata": {},
   "source": [
    "# variable length arguments"
   ]
  },
  {
   "cell_type": "code",
   "execution_count": 104,
   "id": "21150a9e",
   "metadata": {},
   "outputs": [],
   "source": [
    "def test9(*args):\n",
    "    return args"
   ]
  },
  {
   "cell_type": "code",
   "execution_count": 109,
   "id": "f8a1af41",
   "metadata": {},
   "outputs": [
    {
     "data": {
      "text/plain": [
       "(1, 2, 3, 4, 5, 'dinesh', [1, 2, 3, 4])"
      ]
     },
     "execution_count": 109,
     "metadata": {},
     "output_type": "execute_result"
    }
   ],
   "source": [
    "test9(1,2,3,4,5,\"dinesh\",[1,2,3,4])"
   ]
  },
  {
   "cell_type": "code",
   "execution_count": 110,
   "id": "9c89a2bb",
   "metadata": {},
   "outputs": [
    {
     "data": {
      "text/plain": [
       "tuple"
      ]
     },
     "execution_count": 110,
     "metadata": {},
     "output_type": "execute_result"
    }
   ],
   "source": [
    "type(test9(1,2,3))"
   ]
  },
  {
   "cell_type": "code",
   "execution_count": 111,
   "id": "9f778f79",
   "metadata": {},
   "outputs": [],
   "source": [
    "def test10(*args):\n",
    "    return list(args)"
   ]
  },
  {
   "cell_type": "code",
   "execution_count": 112,
   "id": "24a09dba",
   "metadata": {},
   "outputs": [
    {
     "data": {
      "text/plain": [
       "[1, 2, 3, 4, 5]"
      ]
     },
     "execution_count": 112,
     "metadata": {},
     "output_type": "execute_result"
    }
   ],
   "source": [
    "test10(1,2,3,4,5)"
   ]
  },
  {
   "cell_type": "code",
   "execution_count": 115,
   "id": "d7b1efe1",
   "metadata": {},
   "outputs": [],
   "source": [
    "def test10(*args):\n",
    "    l=[]\n",
    "    for i in args:\n",
    "        l.append(i)\n",
    "    return l"
   ]
  },
  {
   "cell_type": "code",
   "execution_count": 116,
   "id": "74e9132a",
   "metadata": {},
   "outputs": [
    {
     "data": {
      "text/plain": [
       "[1, 2, 3, 4]"
      ]
     },
     "execution_count": 116,
     "metadata": {},
     "output_type": "execute_result"
    }
   ],
   "source": [
    "test10(1,2,3,4)"
   ]
  },
  {
   "cell_type": "markdown",
   "id": "c0fdec7c",
   "metadata": {},
   "source": [
    "# Keyword arguments"
   ]
  },
  {
   "cell_type": "code",
   "execution_count": 117,
   "id": "c5bb1e41",
   "metadata": {},
   "outputs": [],
   "source": [
    "def test11(**kwargs):\n",
    "    return kwargs\n"
   ]
  },
  {
   "cell_type": "code",
   "execution_count": 119,
   "id": "a5dd199e",
   "metadata": {},
   "outputs": [
    {
     "ename": "TypeError",
     "evalue": "test11() takes 0 positional arguments but 4 were given",
     "output_type": "error",
     "traceback": [
      "\u001b[1;31m---------------------------------------------------------------------------\u001b[0m",
      "\u001b[1;31mTypeError\u001b[0m                                 Traceback (most recent call last)",
      "\u001b[1;32m<ipython-input-119-7820018e0e60>\u001b[0m in \u001b[0;36m<module>\u001b[1;34m\u001b[0m\n\u001b[1;32m----> 1\u001b[1;33m \u001b[0mtest11\u001b[0m\u001b[1;33m(\u001b[0m\u001b[1;36m4\u001b[0m\u001b[1;33m,\u001b[0m\u001b[1;36m5\u001b[0m\u001b[1;33m,\u001b[0m\u001b[1;36m6\u001b[0m\u001b[1;33m,\u001b[0m\u001b[1;36m7\u001b[0m\u001b[1;33m)\u001b[0m\u001b[1;33m\u001b[0m\u001b[1;33m\u001b[0m\u001b[0m\n\u001b[0m",
      "\u001b[1;31mTypeError\u001b[0m: test11() takes 0 positional arguments but 4 were given"
     ]
    }
   ],
   "source": [
    "test11(4,5,6,7)"
   ]
  },
  {
   "cell_type": "code",
   "execution_count": 121,
   "id": "d7b4240e",
   "metadata": {},
   "outputs": [
    {
     "data": {
      "text/plain": [
       "{'a': 1, 'b': 2, 'c': 'dinesh', 'd': 'hari', 'e': [1, 2, 3, 4]}"
      ]
     },
     "execution_count": 121,
     "metadata": {},
     "output_type": "execute_result"
    }
   ],
   "source": [
    "test11(a=1,b=2,c=\"dinesh\",d=\"hari\",e=[1,2,3,4])"
   ]
  },
  {
   "cell_type": "markdown",
   "id": "c6555199",
   "metadata": {},
   "source": [
    "# function inside function"
   ]
  },
  {
   "cell_type": "code",
   "execution_count": 124,
   "id": "d81d1eca",
   "metadata": {},
   "outputs": [],
   "source": [
    "def test12(a):\n",
    "    return a\n",
    "def test13(b):\n",
    "    return b\n",
    "def test14(func):\n",
    "    return func(\"Dinesh\")"
   ]
  },
  {
   "cell_type": "code",
   "execution_count": 125,
   "id": "1fd290c2",
   "metadata": {},
   "outputs": [
    {
     "data": {
      "text/plain": [
       "'Dinesh'"
      ]
     },
     "execution_count": 125,
     "metadata": {},
     "output_type": "execute_result"
    }
   ],
   "source": [
    "test14(test12)"
   ]
  },
  {
   "cell_type": "code",
   "execution_count": 143,
   "id": "f8117f8c",
   "metadata": {},
   "outputs": [
    {
     "data": {
      "text/plain": [
       "'Hari'"
      ]
     },
     "execution_count": 143,
     "metadata": {},
     "output_type": "execute_result"
    }
   ],
   "source": [
    "test14(test13)"
   ]
  },
  {
   "cell_type": "code",
   "execution_count": 148,
   "id": "97281013",
   "metadata": {},
   "outputs": [],
   "source": [
    "def test12(a):\n",
    "    return a\n",
    "def test13(b):\n",
    "    return \"Babu\"\n",
    "def test14(func):\n",
    "    return func(\"Dinesh\")"
   ]
  },
  {
   "cell_type": "code",
   "execution_count": 149,
   "id": "6d0bc0b4",
   "metadata": {},
   "outputs": [
    {
     "data": {
      "text/plain": [
       "'Babu'"
      ]
     },
     "execution_count": 149,
     "metadata": {},
     "output_type": "execute_result"
    }
   ],
   "source": [
    "test14(test13)"
   ]
  },
  {
   "cell_type": "code",
   "execution_count": 150,
   "id": "54657d14",
   "metadata": {},
   "outputs": [
    {
     "data": {
      "text/plain": [
       "'Dinesh'"
      ]
     },
     "execution_count": 150,
     "metadata": {},
     "output_type": "execute_result"
    }
   ],
   "source": [
    "test14(test12)"
   ]
  },
  {
   "cell_type": "code",
   "execution_count": 153,
   "id": "8866343f",
   "metadata": {},
   "outputs": [],
   "source": [
    "def test15(a):\n",
    "    print(\"this is my test 15\")\n",
    "    def test16():\n",
    "        print(\"this is my test 16\")\n",
    "    def test17():\n",
    "        print(\"this is test 17\")\n",
    "    \n",
    "    if a==\"Dinesh\":\n",
    "        return test16()\n",
    "    elif a==\"Babu\":\n",
    "        return test17()"
   ]
  },
  {
   "cell_type": "code",
   "execution_count": 154,
   "id": "b48c1fc1",
   "metadata": {},
   "outputs": [
    {
     "name": "stdout",
     "output_type": "stream",
     "text": [
      "this is my test 15\n",
      "this is my test 16\n"
     ]
    }
   ],
   "source": [
    "test15(\"Dinesh\")"
   ]
  },
  {
   "cell_type": "code",
   "execution_count": 156,
   "id": "16c98999",
   "metadata": {},
   "outputs": [
    {
     "name": "stdout",
     "output_type": "stream",
     "text": [
      "this is my test 15\n",
      "this is test 17\n"
     ]
    }
   ],
   "source": [
    "test15(\"Babu\")"
   ]
  },
  {
   "cell_type": "code",
   "execution_count": 158,
   "id": "47e37175",
   "metadata": {},
   "outputs": [],
   "source": [
    "def test13(*args):\n",
    "    print(\"This is a return of test13\")"
   ]
  },
  {
   "cell_type": "code",
   "execution_count": 159,
   "id": "3f20937d",
   "metadata": {},
   "outputs": [],
   "source": [
    "def test18(func):\n",
    "    def test19():\n",
    "        print(\"I am inside test 19\")\n",
    "    return test19()"
   ]
  },
  {
   "cell_type": "code",
   "execution_count": 160,
   "id": "4a320d8c",
   "metadata": {},
   "outputs": [
    {
     "name": "stdout",
     "output_type": "stream",
     "text": [
      "I am inside test 19\n"
     ]
    }
   ],
   "source": [
    "test18(test13)"
   ]
  },
  {
   "cell_type": "code",
   "execution_count": 161,
   "id": "cd660e0b",
   "metadata": {},
   "outputs": [],
   "source": [
    "def test18(func):\n",
    "    def test19():\n",
    "        print(\"I am inside test 19\")\n",
    "        func()\n",
    "    return test19()"
   ]
  },
  {
   "cell_type": "code",
   "execution_count": 162,
   "id": "7b885e88",
   "metadata": {},
   "outputs": [
    {
     "name": "stdout",
     "output_type": "stream",
     "text": [
      "I am inside test 19\n",
      "This is a return of test13\n"
     ]
    }
   ],
   "source": [
    "test18(test13)"
   ]
  },
  {
   "cell_type": "markdown",
   "id": "4d03102e",
   "metadata": {},
   "source": [
    "# Decorators "
   ]
  },
  {
   "cell_type": "code",
   "execution_count": 182,
   "id": "73ade4ee",
   "metadata": {},
   "outputs": [],
   "source": [
    "import os\n",
    "def test18(func):\n",
    "    def test19():\n",
    "        print(\"I am inside test19 and this will behave a decorator to any function that I am going to call\")\n",
    "        print(os.getcwd())\n",
    "        func()\n",
    "    return test19"
   ]
  },
  {
   "cell_type": "code",
   "execution_count": 183,
   "id": "8b907125",
   "metadata": {},
   "outputs": [],
   "source": [
    "@test18\n",
    "def test20():\n",
    "    print(\"this is test20\")\n",
    "    "
   ]
  },
  {
   "cell_type": "code",
   "execution_count": 184,
   "id": "0053ccb9",
   "metadata": {},
   "outputs": [
    {
     "name": "stdout",
     "output_type": "stream",
     "text": [
      "I am inside test19 and this will behave a decorator to any function that I am going to call\n",
      "C:\\Users\\V.Dinesh Babu\\Downloads\\Data science by ineuron\\Python\n",
      "this is test20\n"
     ]
    }
   ],
   "source": [
    "test20()"
   ]
  },
  {
   "cell_type": "code",
   "execution_count": 190,
   "id": "96b5d324",
   "metadata": {},
   "outputs": [
    {
     "data": {
      "text/plain": [
       "<function __main__.test18.<locals>.test19()>"
      ]
     },
     "execution_count": 190,
     "metadata": {},
     "output_type": "execute_result"
    }
   ],
   "source": [
    "test18(test20)"
   ]
  },
  {
   "cell_type": "code",
   "execution_count": 191,
   "id": "0775b24c",
   "metadata": {},
   "outputs": [
    {
     "data": {
      "text/plain": [
       "'C:\\\\Users\\\\V.Dinesh Babu\\\\Downloads\\\\Data science by ineuron\\\\Python'"
      ]
     },
     "execution_count": 191,
     "metadata": {},
     "output_type": "execute_result"
    }
   ],
   "source": [
    "pwd()"
   ]
  },
  {
   "cell_type": "code",
   "execution_count": 193,
   "id": "e4856c61",
   "metadata": {},
   "outputs": [],
   "source": [
    "def test20(func):\n",
    "    def test21():\n",
    "        func()\n",
    "        print(os.getcwd())\n",
    "    return test21"
   ]
  },
  {
   "cell_type": "code",
   "execution_count": 194,
   "id": "c6729b4a",
   "metadata": {},
   "outputs": [],
   "source": [
    "@test18\n",
    "@test20\n",
    "def test22():\n",
    "    print(\"this will print inside test22\")"
   ]
  },
  {
   "cell_type": "code",
   "execution_count": 195,
   "id": "92e0f1cf",
   "metadata": {},
   "outputs": [
    {
     "name": "stdout",
     "output_type": "stream",
     "text": [
      "I am inside test19 and this will behave a decorator to any function that I am going to call\n",
      "C:\\Users\\V.Dinesh Babu\\Downloads\\Data science by ineuron\\Python\n",
      "this will print inside test22\n",
      "C:\\Users\\V.Dinesh Babu\\Downloads\\Data science by ineuron\\Python\n"
     ]
    }
   ],
   "source": [
    "test22()"
   ]
  },
  {
   "cell_type": "code",
   "execution_count": 1,
   "id": "8d69e307",
   "metadata": {},
   "outputs": [
    {
     "name": "stdout",
     "output_type": "stream",
     "text": [
      "hello\n",
      "0.0\n"
     ]
    }
   ],
   "source": [
    "import time\n",
    "start=time.time()\n",
    "print(\"hello\")\n",
    "end=time.time()\n",
    "print(end-start)"
   ]
  },
  {
   "cell_type": "code",
   "execution_count": 2,
   "id": "bd1329fb",
   "metadata": {},
   "outputs": [
    {
     "data": {
      "text/plain": [
       "1668319104.4537978"
      ]
     },
     "execution_count": 2,
     "metadata": {},
     "output_type": "execute_result"
    }
   ],
   "source": [
    "time.time()"
   ]
  },
  {
   "cell_type": "code",
   "execution_count": 3,
   "id": "67bd6e6b",
   "metadata": {},
   "outputs": [],
   "source": [
    "def test25(func) : \n",
    "    def test26():\n",
    "        print(\"this wil give you executation time of a function \") \n",
    "        start = time.time()\n",
    "        func()\n",
    "        print(func())\n",
    "        end = time.time()\n",
    "        print(end -start)\n",
    "    return  test26\n",
    "\n",
    "@test25\n",
    "def test27():\n",
    "    \"\"\"\n",
    "    this is a functin whichi will take a decorator for calculating a executation timeing of a functioin \n",
    "    \"\"\"\n",
    "    l = [4,5,6,7,8,8]\n",
    "    l1 = []\n",
    "    for i in l :\n",
    "        if type(i) == int :\n",
    "            l1.append(i)\n",
    "    return l1"
   ]
  },
  {
   "cell_type": "code",
   "execution_count": 4,
   "id": "bf46b206",
   "metadata": {},
   "outputs": [
    {
     "name": "stdout",
     "output_type": "stream",
     "text": [
      "this wil give you executation time of a function \n",
      "[4, 5, 6, 7, 8, 8]\n",
      "0.0\n"
     ]
    }
   ],
   "source": [
    "test27()"
   ]
  },
  {
   "cell_type": "code",
   "execution_count": 5,
   "id": "dd5eef14",
   "metadata": {},
   "outputs": [],
   "source": [
    "def test3(*args,a):\n",
    "    return args,a"
   ]
  },
  {
   "cell_type": "code",
   "execution_count": 6,
   "id": "49db12e8",
   "metadata": {},
   "outputs": [
    {
     "ename": "TypeError",
     "evalue": "test3() missing 1 required keyword-only argument: 'a'",
     "output_type": "error",
     "traceback": [
      "\u001b[1;31m---------------------------------------------------------------------------\u001b[0m",
      "\u001b[1;31mTypeError\u001b[0m                                 Traceback (most recent call last)",
      "\u001b[1;32m<ipython-input-6-a6cb69f70d0b>\u001b[0m in \u001b[0;36m<module>\u001b[1;34m\u001b[0m\n\u001b[1;32m----> 1\u001b[1;33m \u001b[0mtest3\u001b[0m\u001b[1;33m(\u001b[0m\u001b[1;36m1\u001b[0m\u001b[1;33m,\u001b[0m\u001b[1;36m2\u001b[0m\u001b[1;33m,\u001b[0m\u001b[1;36m3\u001b[0m\u001b[1;33m)\u001b[0m\u001b[1;33m\u001b[0m\u001b[1;33m\u001b[0m\u001b[0m\n\u001b[0m",
      "\u001b[1;31mTypeError\u001b[0m: test3() missing 1 required keyword-only argument: 'a'"
     ]
    }
   ],
   "source": [
    "test3(1,2,3)"
   ]
  },
  {
   "cell_type": "code",
   "execution_count": 8,
   "id": "88e37cf7",
   "metadata": {},
   "outputs": [
    {
     "data": {
      "text/plain": [
       "((1, 2, 3, 4), [1, 2, 3, 4])"
      ]
     },
     "execution_count": 8,
     "metadata": {},
     "output_type": "execute_result"
    }
   ],
   "source": [
    "test3(1,2,3,4,a=[1,2,3,4])"
   ]
  },
  {
   "cell_type": "code",
   "execution_count": 9,
   "id": "2bdb10ae",
   "metadata": {},
   "outputs": [],
   "source": [
    "def test3(*args,a,b,c):\n",
    "    return args,a,b,c"
   ]
  },
  {
   "cell_type": "code",
   "execution_count": 10,
   "id": "8031ed53",
   "metadata": {},
   "outputs": [
    {
     "data": {
      "text/plain": [
       "((1, 2, 3, 4), [23, 4, 5], 'hello', (2+3j))"
      ]
     },
     "execution_count": 10,
     "metadata": {},
     "output_type": "execute_result"
    }
   ],
   "source": [
    "test3(1,2,3,4,a=[23,4,5],b=\"hello\",c=2+3j)"
   ]
  },
  {
   "cell_type": "code",
   "execution_count": 11,
   "id": "aef5d805",
   "metadata": {},
   "outputs": [],
   "source": [
    "def test3(a,*args):\n",
    "    return a,args"
   ]
  },
  {
   "cell_type": "code",
   "execution_count": 12,
   "id": "c54c2722",
   "metadata": {},
   "outputs": [
    {
     "ename": "TypeError",
     "evalue": "test3() got multiple values for argument 'a'",
     "output_type": "error",
     "traceback": [
      "\u001b[1;31m---------------------------------------------------------------------------\u001b[0m",
      "\u001b[1;31mTypeError\u001b[0m                                 Traceback (most recent call last)",
      "\u001b[1;32m<ipython-input-12-969b461f2576>\u001b[0m in \u001b[0;36m<module>\u001b[1;34m\u001b[0m\n\u001b[1;32m----> 1\u001b[1;33m \u001b[0mtest3\u001b[0m\u001b[1;33m(\u001b[0m\u001b[1;36m1\u001b[0m\u001b[1;33m,\u001b[0m\u001b[1;36m2\u001b[0m\u001b[1;33m,\u001b[0m\u001b[1;36m34\u001b[0m\u001b[1;33m,\u001b[0m\u001b[0ma\u001b[0m\u001b[1;33m=\u001b[0m\u001b[1;36m4\u001b[0m\u001b[1;33m)\u001b[0m\u001b[1;33m\u001b[0m\u001b[1;33m\u001b[0m\u001b[0m\n\u001b[0m",
      "\u001b[1;31mTypeError\u001b[0m: test3() got multiple values for argument 'a'"
     ]
    }
   ],
   "source": [
    "test3(1,2,34,a=4)"
   ]
  },
  {
   "cell_type": "code",
   "execution_count": 15,
   "id": "41c5629a",
   "metadata": {},
   "outputs": [
    {
     "data": {
      "text/plain": [
       "(2, (1, 2, 3, 4))"
      ]
     },
     "execution_count": 15,
     "metadata": {},
     "output_type": "execute_result"
    }
   ],
   "source": [
    "test3(2,1,2,3,4)"
   ]
  },
  {
   "cell_type": "code",
   "execution_count": 17,
   "id": "465517ab",
   "metadata": {},
   "outputs": [],
   "source": [
    "def test4(a,*args,b,c):\n",
    "    return args,a,b,c"
   ]
  },
  {
   "cell_type": "code",
   "execution_count": 18,
   "id": "61a9568a",
   "metadata": {},
   "outputs": [
    {
     "ename": "TypeError",
     "evalue": "test4() missing 2 required keyword-only arguments: 'b' and 'c'",
     "output_type": "error",
     "traceback": [
      "\u001b[1;31m---------------------------------------------------------------------------\u001b[0m",
      "\u001b[1;31mTypeError\u001b[0m                                 Traceback (most recent call last)",
      "\u001b[1;32m<ipython-input-18-8b8f02859212>\u001b[0m in \u001b[0;36m<module>\u001b[1;34m\u001b[0m\n\u001b[1;32m----> 1\u001b[1;33m \u001b[0mtest4\u001b[0m\u001b[1;33m(\u001b[0m\u001b[1;34m\"Dinesh\"\u001b[0m\u001b[1;33m,\u001b[0m\u001b[1;36m1\u001b[0m\u001b[1;33m,\u001b[0m\u001b[1;36m2\u001b[0m\u001b[1;33m,\u001b[0m\u001b[1;36m3\u001b[0m\u001b[1;33m,\u001b[0m\u001b[1;36m4\u001b[0m\u001b[1;33m)\u001b[0m\u001b[1;33m\u001b[0m\u001b[1;33m\u001b[0m\u001b[0m\n\u001b[0m",
      "\u001b[1;31mTypeError\u001b[0m: test4() missing 2 required keyword-only arguments: 'b' and 'c'"
     ]
    }
   ],
   "source": [
    "test4(\"Dinesh\",1,2,3,4)"
   ]
  },
  {
   "cell_type": "code",
   "execution_count": 19,
   "id": "f0c4fdd0",
   "metadata": {},
   "outputs": [
    {
     "data": {
      "text/plain": [
       "((1, 2, 3, 4, 5), 'Dinesh', 6, 7)"
      ]
     },
     "execution_count": 19,
     "metadata": {},
     "output_type": "execute_result"
    }
   ],
   "source": [
    "test4(\"Dinesh\",1,2,3,4,5,b=6,c=7)"
   ]
  },
  {
   "cell_type": "code",
   "execution_count": 24,
   "id": "cee21623",
   "metadata": {},
   "outputs": [],
   "source": [
    "def test6(*args):\n",
    "    for i in args:\n",
    "        if type(i)==list:\n",
    "            return i"
   ]
  },
  {
   "cell_type": "code",
   "execution_count": 22,
   "id": "417545d5",
   "metadata": {},
   "outputs": [
    {
     "data": {
      "text/plain": [
       "[4, 5, 6, 7]"
      ]
     },
     "execution_count": 22,
     "metadata": {},
     "output_type": "execute_result"
    }
   ],
   "source": [
    "test6(1,2,3,[4,5,6,7],8,9,10)"
   ]
  },
  {
   "cell_type": "code",
   "execution_count": 25,
   "id": "c9c2d30d",
   "metadata": {},
   "outputs": [],
   "source": [
    "def test6(*args):\n",
    "    for i in args:\n",
    "        if type(i)==list:\n",
    "            return i"
   ]
  },
  {
   "cell_type": "code",
   "execution_count": 27,
   "id": "5bea45ca",
   "metadata": {},
   "outputs": [
    {
     "data": {
      "text/plain": [
       "[4, 5, 6]"
      ]
     },
     "execution_count": 27,
     "metadata": {},
     "output_type": "execute_result"
    }
   ],
   "source": [
    "test6(1,2,3,[4,5,6],[5,4,3])"
   ]
  },
  {
   "cell_type": "code",
   "execution_count": 30,
   "id": "ed13599d",
   "metadata": {},
   "outputs": [],
   "source": [
    "def test6(*args):\n",
    "    l=[]\n",
    "    for i in args:\n",
    "        if type(i)==list:\n",
    "            l.append(i)\n",
    "    return l"
   ]
  },
  {
   "cell_type": "code",
   "execution_count": 31,
   "id": "36079dcd",
   "metadata": {},
   "outputs": [
    {
     "data": {
      "text/plain": [
       "[[23, 34, 24], [34, 65, 42]]"
      ]
     },
     "execution_count": 31,
     "metadata": {},
     "output_type": "execute_result"
    }
   ],
   "source": [
    "test6(1,2,3,4,[23,34,24],[34,65,42])"
   ]
  },
  {
   "cell_type": "code",
   "execution_count": 32,
   "id": "6d486496",
   "metadata": {},
   "outputs": [],
   "source": [
    "#keyword arguments\n",
    "def test7(**kwargs):\n",
    "    return kwargs\n"
   ]
  },
  {
   "cell_type": "code",
   "execution_count": 33,
   "id": "9ffaa657",
   "metadata": {},
   "outputs": [
    {
     "data": {
      "text/plain": [
       "{'a': 1, 'b': 2, 'c': 3}"
      ]
     },
     "execution_count": 33,
     "metadata": {},
     "output_type": "execute_result"
    }
   ],
   "source": [
    "test7(a=1,b=2,c=3)"
   ]
  },
  {
   "cell_type": "code",
   "execution_count": 34,
   "id": "356c9f63",
   "metadata": {},
   "outputs": [
    {
     "ename": "SyntaxError",
     "evalue": "expression cannot contain assignment, perhaps you meant \"==\"? (<ipython-input-34-17ca2be15275>, line 1)",
     "output_type": "error",
     "traceback": [
      "\u001b[1;36m  File \u001b[1;32m\"<ipython-input-34-17ca2be15275>\"\u001b[1;36m, line \u001b[1;32m1\u001b[0m\n\u001b[1;33m    test7(\"a\"=\"Dinesh\")\u001b[0m\n\u001b[1;37m          ^\u001b[0m\n\u001b[1;31mSyntaxError\u001b[0m\u001b[1;31m:\u001b[0m expression cannot contain assignment, perhaps you meant \"==\"?\n"
     ]
    }
   ],
   "source": [
    "test7(\"a\"=\"Dinesh\")"
   ]
  },
  {
   "cell_type": "code",
   "execution_count": 35,
   "id": "edba937c",
   "metadata": {},
   "outputs": [
    {
     "data": {
      "text/plain": [
       "{'a': 'Dinesh'}"
      ]
     },
     "execution_count": 35,
     "metadata": {},
     "output_type": "execute_result"
    }
   ],
   "source": [
    "test7(a=\"Dinesh\")"
   ]
  },
  {
   "cell_type": "code",
   "execution_count": 36,
   "id": "5938c330",
   "metadata": {},
   "outputs": [
    {
     "ename": "SyntaxError",
     "evalue": "expression cannot contain assignment, perhaps you meant \"==\"? (<ipython-input-36-1616808c0b02>, line 1)",
     "output_type": "error",
     "traceback": [
      "\u001b[1;36m  File \u001b[1;32m\"<ipython-input-36-1616808c0b02>\"\u001b[1;36m, line \u001b[1;32m1\u001b[0m\n\u001b[1;33m    test7(4=\"Dinesh\")\u001b[0m\n\u001b[1;37m          ^\u001b[0m\n\u001b[1;31mSyntaxError\u001b[0m\u001b[1;31m:\u001b[0m expression cannot contain assignment, perhaps you meant \"==\"?\n"
     ]
    }
   ],
   "source": [
    "test7(4=\"Dinesh\")"
   ]
  },
  {
   "cell_type": "code",
   "execution_count": 46,
   "id": "69e45c12",
   "metadata": {},
   "outputs": [],
   "source": [
    "def test8(**Dinesh):\n",
    "    return Dinesh\n"
   ]
  },
  {
   "cell_type": "code",
   "execution_count": 48,
   "id": "15adf8cf",
   "metadata": {},
   "outputs": [
    {
     "data": {
      "text/plain": [
       "{'name': 'Dinesh',\n",
       " 'age': 22,\n",
       " 'phone_number': 9848463021,\n",
       " 'address': 'abc road,hyderabad'}"
      ]
     },
     "execution_count": 48,
     "metadata": {},
     "output_type": "execute_result"
    }
   ],
   "source": [
    "test8(name=\"Dinesh\",age=22,phone_number=9848463021,address=\"abc road,hyderabad\")"
   ]
  },
  {
   "cell_type": "code",
   "execution_count": 50,
   "id": "c02760f8",
   "metadata": {},
   "outputs": [],
   "source": [
    "def test9(a,**Dinesh):\n",
    "    return Dinesh, a\n"
   ]
  },
  {
   "cell_type": "code",
   "execution_count": 51,
   "id": "8d7a45a3",
   "metadata": {},
   "outputs": [
    {
     "data": {
      "text/plain": [
       "({'t': 23, 'b': 34, 'c': 7, 'd': 8, 'e': 32}, 23)"
      ]
     },
     "execution_count": 51,
     "metadata": {},
     "output_type": "execute_result"
    }
   ],
   "source": [
    "test9(23,t=23,b=34,c=7,d=8,e=32)"
   ]
  },
  {
   "cell_type": "code",
   "execution_count": 52,
   "id": "7c81ad3e",
   "metadata": {},
   "outputs": [
    {
     "ename": "SyntaxError",
     "evalue": "invalid syntax (<ipython-input-52-7899d154afe0>, line 1)",
     "output_type": "error",
     "traceback": [
      "\u001b[1;36m  File \u001b[1;32m\"<ipython-input-52-7899d154afe0>\"\u001b[1;36m, line \u001b[1;32m1\u001b[0m\n\u001b[1;33m    def test10(a,**b,*args):\u001b[0m\n\u001b[1;37m                     ^\u001b[0m\n\u001b[1;31mSyntaxError\u001b[0m\u001b[1;31m:\u001b[0m invalid syntax\n"
     ]
    }
   ],
   "source": [
    "def test10(a,**b,*args):\n",
    "    return a,args,b"
   ]
  },
  {
   "cell_type": "code",
   "execution_count": 55,
   "id": "c764631d",
   "metadata": {},
   "outputs": [],
   "source": [
    "def test11(a,*args,**kwargs):\n",
    "    return a, args, kwargs"
   ]
  },
  {
   "cell_type": "code",
   "execution_count": 56,
   "id": "0b8bcf16",
   "metadata": {},
   "outputs": [
    {
     "data": {
      "text/plain": [
       "(12, (13, 14, 15, 16), {'c': [1, 2, 3, 4], 'd': 'Dinesh'})"
      ]
     },
     "execution_count": 56,
     "metadata": {},
     "output_type": "execute_result"
    }
   ],
   "source": [
    "test11(12,13,14,15,16,c=[1,2,3,4],d=\"Dinesh\")"
   ]
  },
  {
   "cell_type": "code",
   "execution_count": 57,
   "id": "e0d8ef80",
   "metadata": {},
   "outputs": [],
   "source": [
    "def test12(a,b):\n",
    "    return a*b"
   ]
  },
  {
   "cell_type": "code",
   "execution_count": 58,
   "id": "1ea655a1",
   "metadata": {},
   "outputs": [
    {
     "data": {
      "text/plain": [
       "168"
      ]
     },
     "execution_count": 58,
     "metadata": {},
     "output_type": "execute_result"
    }
   ],
   "source": [
    "test12(12,14)"
   ]
  },
  {
   "cell_type": "code",
   "execution_count": 61,
   "id": "46296b19",
   "metadata": {},
   "outputs": [],
   "source": [
    "multi=lambda a,b :a*b"
   ]
  },
  {
   "cell_type": "code",
   "execution_count": 62,
   "id": "c11912a5",
   "metadata": {},
   "outputs": [
    {
     "data": {
      "text/plain": [
       "120"
      ]
     },
     "execution_count": 62,
     "metadata": {},
     "output_type": "execute_result"
    }
   ],
   "source": [
    "multi(10,12)"
   ]
  },
  {
   "cell_type": "code",
   "execution_count": 67,
   "id": "1003896b",
   "metadata": {},
   "outputs": [],
   "source": [
    "def a1(func):\n",
    "    def a2():\n",
    "        print(\"I am inside test2\")\n",
    "        func()\n",
    "        print(func())\n",
    "        print(\"Function executed\")\n",
    "        return func()\n",
    "    return a2"
   ]
  },
  {
   "cell_type": "code",
   "execution_count": 68,
   "id": "177908d0",
   "metadata": {},
   "outputs": [],
   "source": [
    "@a1\n",
    "def a3():\n",
    "    print(\"this is my test3\")"
   ]
  },
  {
   "cell_type": "code",
   "execution_count": 76,
   "id": "8412a4c2",
   "metadata": {},
   "outputs": [
    {
     "name": "stdout",
     "output_type": "stream",
     "text": [
      "I am inside test2\n",
      "this is my test3\n",
      "this is my test3\n",
      "None\n",
      "Function executed\n",
      "this is my test3\n"
     ]
    }
   ],
   "source": [
    "a3()"
   ]
  },
  {
   "cell_type": "code",
   "execution_count": 77,
   "id": "6512dfca",
   "metadata": {},
   "outputs": [],
   "source": [
    "def a4():\n",
    "    return 4+5"
   ]
  },
  {
   "cell_type": "code",
   "execution_count": 78,
   "id": "85850465",
   "metadata": {},
   "outputs": [
    {
     "data": {
      "text/plain": [
       "9"
      ]
     },
     "execution_count": 78,
     "metadata": {},
     "output_type": "execute_result"
    }
   ],
   "source": [
    "a4()"
   ]
  },
  {
   "cell_type": "code",
   "execution_count": 79,
   "id": "00270d92",
   "metadata": {},
   "outputs": [],
   "source": [
    "@a1\n",
    "def a4():\n",
    "    return 4+5"
   ]
  },
  {
   "cell_type": "code",
   "execution_count": 80,
   "id": "2984f35a",
   "metadata": {},
   "outputs": [
    {
     "name": "stdout",
     "output_type": "stream",
     "text": [
      "I am inside test2\n",
      "9\n",
      "Function executed\n"
     ]
    },
    {
     "data": {
      "text/plain": [
       "9"
      ]
     },
     "execution_count": 80,
     "metadata": {},
     "output_type": "execute_result"
    }
   ],
   "source": [
    "a4()"
   ]
  },
  {
   "cell_type": "code",
   "execution_count": 81,
   "id": "29443796",
   "metadata": {},
   "outputs": [
    {
     "name": "stdout",
     "output_type": "stream",
     "text": [
      "I am inside test2\n",
      "9\n",
      "Function executed\n"
     ]
    }
   ],
   "source": [
    "a=a4()"
   ]
  },
  {
   "cell_type": "code",
   "execution_count": 82,
   "id": "6469dd24",
   "metadata": {},
   "outputs": [
    {
     "name": "stdout",
     "output_type": "stream",
     "text": [
      "9\n"
     ]
    }
   ],
   "source": [
    "print(a)"
   ]
  },
  {
   "cell_type": "code",
   "execution_count": 88,
   "id": "bda67481",
   "metadata": {},
   "outputs": [],
   "source": [
    "def a1(func):\n",
    "    def a2(c,d):\n",
    "        print(\"I am inside test2\")\n",
    "        func(c,d)\n",
    "        print(func(c,d))\n",
    "        print(\"Function executed\")\n",
    "        return func(c,d)\n",
    "    return a2"
   ]
  },
  {
   "cell_type": "code",
   "execution_count": 89,
   "id": "3579ee3f",
   "metadata": {},
   "outputs": [],
   "source": [
    "def a5(a,b):\n",
    "    return a+b"
   ]
  },
  {
   "cell_type": "code",
   "execution_count": 90,
   "id": "70aef08f",
   "metadata": {},
   "outputs": [
    {
     "data": {
      "text/plain": [
       "22"
      ]
     },
     "execution_count": 90,
     "metadata": {},
     "output_type": "execute_result"
    }
   ],
   "source": [
    "a5(10,12)"
   ]
  },
  {
   "cell_type": "code",
   "execution_count": 91,
   "id": "fb00e5c3",
   "metadata": {},
   "outputs": [],
   "source": [
    "@a1\n",
    "def a5(a,b):\n",
    "    return a+b"
   ]
  },
  {
   "cell_type": "code",
   "execution_count": 92,
   "id": "d6a60a0a",
   "metadata": {},
   "outputs": [
    {
     "name": "stdout",
     "output_type": "stream",
     "text": [
      "I am inside test2\n",
      "22\n",
      "Function executed\n"
     ]
    },
    {
     "data": {
      "text/plain": [
       "22"
      ]
     },
     "execution_count": 92,
     "metadata": {},
     "output_type": "execute_result"
    }
   ],
   "source": [
    "a5(10,12)"
   ]
  },
  {
   "cell_type": "code",
   "execution_count": 93,
   "id": "c995cd81",
   "metadata": {},
   "outputs": [],
   "source": [
    "def a1(func):\n",
    "    def a2(*args):\n",
    "        print(\"I am inside test2\")\n",
    "        func(*args)\n",
    "        print(func(*args))\n",
    "        print(\"Function executed\")\n",
    "        return func(*args)\n",
    "    return a2"
   ]
  },
  {
   "cell_type": "code",
   "execution_count": 94,
   "id": "8831b70f",
   "metadata": {},
   "outputs": [],
   "source": [
    "@a1\n",
    "def a6(a,b,c):\n",
    "    return a+b+c"
   ]
  },
  {
   "cell_type": "code",
   "execution_count": 95,
   "id": "6209d85a",
   "metadata": {},
   "outputs": [
    {
     "name": "stdout",
     "output_type": "stream",
     "text": [
      "I am inside test2\n",
      "39\n",
      "Function executed\n"
     ]
    },
    {
     "data": {
      "text/plain": [
       "39"
      ]
     },
     "execution_count": 95,
     "metadata": {},
     "output_type": "execute_result"
    }
   ],
   "source": [
    "a6(12,13,14)"
   ]
  },
  {
   "cell_type": "code",
   "execution_count": 106,
   "id": "73635f8d",
   "metadata": {},
   "outputs": [],
   "source": [
    "def a1(func):\n",
    "    def a2(*args,**kwargs):\n",
    "        print(\"I am inside test2\")\n",
    "        func(*args,**kwargs)\n",
    "        print(func(*args,**kwargs))\n",
    "        print(\"Function executed\")\n",
    "        return func(*args,**kwargs)\n",
    "    return a2"
   ]
  },
  {
   "cell_type": "code",
   "execution_count": 107,
   "id": "8a7b8544",
   "metadata": {},
   "outputs": [],
   "source": [
    "@a1\n",
    "def a7(**kwargs):\n",
    "    return kwargs"
   ]
  },
  {
   "cell_type": "code",
   "execution_count": 108,
   "id": "ef9f5d30",
   "metadata": {},
   "outputs": [
    {
     "name": "stdout",
     "output_type": "stream",
     "text": [
      "I am inside test2\n",
      "{'e': 10, 'f': 20}\n",
      "Function executed\n"
     ]
    },
    {
     "data": {
      "text/plain": [
       "{'e': 10, 'f': 20}"
      ]
     },
     "execution_count": 108,
     "metadata": {},
     "output_type": "execute_result"
    }
   ],
   "source": [
    "a7(e=10,f=20)"
   ]
  },
  {
   "cell_type": "markdown",
   "id": "f2b51fa8",
   "metadata": {},
   "source": [
    "# Ananymous or Lambda function"
   ]
  },
  {
   "cell_type": "code",
   "execution_count": 109,
   "id": "0e76f828",
   "metadata": {},
   "outputs": [
    {
     "data": {
      "text/plain": [
       "<function __main__.<lambda>(a, b)>"
      ]
     },
     "execution_count": 109,
     "metadata": {},
     "output_type": "execute_result"
    }
   ],
   "source": [
    "lambda a,b:a+b"
   ]
  },
  {
   "cell_type": "code",
   "execution_count": 110,
   "id": "2aa56092",
   "metadata": {},
   "outputs": [],
   "source": [
    "def b1(a,b):\n",
    "    return a+b\n"
   ]
  },
  {
   "cell_type": "code",
   "execution_count": 111,
   "id": "53289371",
   "metadata": {},
   "outputs": [
    {
     "data": {
      "text/plain": [
       "26"
      ]
     },
     "execution_count": 111,
     "metadata": {},
     "output_type": "execute_result"
    }
   ],
   "source": [
    "b1(12,14)"
   ]
  },
  {
   "cell_type": "code",
   "execution_count": 112,
   "id": "285563ea",
   "metadata": {},
   "outputs": [
    {
     "data": {
      "text/plain": [
       "<function __main__.<lambda>(a, b)>"
      ]
     },
     "execution_count": 112,
     "metadata": {},
     "output_type": "execute_result"
    }
   ],
   "source": [
    "lambda a,b:a+b"
   ]
  },
  {
   "cell_type": "code",
   "execution_count": 113,
   "id": "bfc7d9a6",
   "metadata": {},
   "outputs": [
    {
     "data": {
      "text/plain": [
       "<function __main__.b1(a, b)>"
      ]
     },
     "execution_count": 113,
     "metadata": {},
     "output_type": "execute_result"
    }
   ],
   "source": [
    "b1"
   ]
  },
  {
   "cell_type": "code",
   "execution_count": 114,
   "id": "9f7692ad",
   "metadata": {},
   "outputs": [],
   "source": [
    "c=lambda a,b:a+b"
   ]
  },
  {
   "cell_type": "code",
   "execution_count": 115,
   "id": "cee28928",
   "metadata": {},
   "outputs": [
    {
     "data": {
      "text/plain": [
       "30"
      ]
     },
     "execution_count": 115,
     "metadata": {},
     "output_type": "execute_result"
    }
   ],
   "source": [
    "c(10,20)"
   ]
  },
  {
   "cell_type": "code",
   "execution_count": 116,
   "id": "72517563",
   "metadata": {},
   "outputs": [
    {
     "data": {
      "text/plain": [
       "'Dinesh Babu'"
      ]
     },
     "execution_count": 116,
     "metadata": {},
     "output_type": "execute_result"
    }
   ],
   "source": [
    "c(\"Dinesh \",\"Babu\")"
   ]
  },
  {
   "cell_type": "code",
   "execution_count": 117,
   "id": "734d50d7",
   "metadata": {},
   "outputs": [],
   "source": [
    "d=lambda a,b,c,d:a+b*c/d"
   ]
  },
  {
   "cell_type": "code",
   "execution_count": 118,
   "id": "bd4a1d6c",
   "metadata": {},
   "outputs": [
    {
     "data": {
      "text/plain": [
       "25.0"
      ]
     },
     "execution_count": 118,
     "metadata": {},
     "output_type": "execute_result"
    }
   ],
   "source": [
    "d(10,20,30,40)"
   ]
  },
  {
   "cell_type": "code",
   "execution_count": 119,
   "id": "6d3f5d6c",
   "metadata": {},
   "outputs": [],
   "source": [
    "e=lambda *args:args"
   ]
  },
  {
   "cell_type": "code",
   "execution_count": 120,
   "id": "b3c746f5",
   "metadata": {},
   "outputs": [
    {
     "data": {
      "text/plain": [
       "(1, 2, 12, 13)"
      ]
     },
     "execution_count": 120,
     "metadata": {},
     "output_type": "execute_result"
    }
   ],
   "source": [
    "e(1,2,12,13)"
   ]
  },
  {
   "cell_type": "markdown",
   "id": "b045f948",
   "metadata": {},
   "source": [
    "# map"
   ]
  },
  {
   "cell_type": "code",
   "execution_count": 130,
   "id": "3373112b",
   "metadata": {},
   "outputs": [],
   "source": [
    "l=[1,2,3,4,5,6]"
   ]
  },
  {
   "cell_type": "code",
   "execution_count": 131,
   "id": "f8a2be11",
   "metadata": {},
   "outputs": [],
   "source": [
    "# expected output l1=[11,12,13,14,15,16]"
   ]
  },
  {
   "cell_type": "code",
   "execution_count": 132,
   "id": "dc847316",
   "metadata": {},
   "outputs": [],
   "source": [
    "l1=[]\n",
    "for i in l:\n",
    "    l1.append(i+10)\n"
   ]
  },
  {
   "cell_type": "code",
   "execution_count": 133,
   "id": "fd99f3c9",
   "metadata": {},
   "outputs": [
    {
     "data": {
      "text/plain": [
       "[11, 12, 13, 14, 15, 16]"
      ]
     },
     "execution_count": 133,
     "metadata": {},
     "output_type": "execute_result"
    }
   ],
   "source": [
    "l1"
   ]
  },
  {
   "cell_type": "code",
   "execution_count": 134,
   "id": "e01a64f7",
   "metadata": {},
   "outputs": [],
   "source": [
    "def c1(a):\n",
    "    return a+10"
   ]
  },
  {
   "cell_type": "code",
   "execution_count": 135,
   "id": "f48722dd",
   "metadata": {},
   "outputs": [
    {
     "data": {
      "text/plain": [
       "<map at 0x250d6c74e50>"
      ]
     },
     "execution_count": 135,
     "metadata": {},
     "output_type": "execute_result"
    }
   ],
   "source": [
    "map(c1,l)"
   ]
  },
  {
   "cell_type": "code",
   "execution_count": 136,
   "id": "4b2c658d",
   "metadata": {},
   "outputs": [
    {
     "data": {
      "text/plain": [
       "[11, 12, 13, 14, 15, 16]"
      ]
     },
     "execution_count": 136,
     "metadata": {},
     "output_type": "execute_result"
    }
   ],
   "source": [
    "list(map(c1,l))"
   ]
  },
  {
   "cell_type": "code",
   "execution_count": 142,
   "id": "96200a3c",
   "metadata": {},
   "outputs": [
    {
     "data": {
      "text/plain": [
       "[11, 12, 13, 14, 15, 16]"
      ]
     },
     "execution_count": 142,
     "metadata": {},
     "output_type": "execute_result"
    }
   ],
   "source": [
    "list(map((lambda a:a+10),l))"
   ]
  },
  {
   "cell_type": "code",
   "execution_count": 143,
   "id": "4b014b8f",
   "metadata": {},
   "outputs": [],
   "source": [
    "d=lambda a:a+10"
   ]
  },
  {
   "cell_type": "code",
   "execution_count": 144,
   "id": "53cc40bb",
   "metadata": {},
   "outputs": [
    {
     "data": {
      "text/plain": [
       "[11, 12, 13, 14, 15, 16]"
      ]
     },
     "execution_count": 144,
     "metadata": {},
     "output_type": "execute_result"
    }
   ],
   "source": [
    "list(map(d,l))"
   ]
  },
  {
   "cell_type": "code",
   "execution_count": 145,
   "id": "9d48575e",
   "metadata": {},
   "outputs": [],
   "source": [
    "l=[\"dinesh\",\"hari\",\"srinu\"]"
   ]
  },
  {
   "cell_type": "code",
   "execution_count": 147,
   "id": "b88eb635",
   "metadata": {},
   "outputs": [
    {
     "data": {
      "text/plain": [
       "['Dinesh', 'Hari', 'Srinu']"
      ]
     },
     "execution_count": 147,
     "metadata": {},
     "output_type": "execute_result"
    }
   ],
   "source": [
    "list(map(lambda a:a.capitalize(),l))"
   ]
  },
  {
   "cell_type": "code",
   "execution_count": 148,
   "id": "76ec0306",
   "metadata": {},
   "outputs": [
    {
     "data": {
      "text/plain": [
       "['DINESH', 'HARI', 'SRINU']"
      ]
     },
     "execution_count": 148,
     "metadata": {},
     "output_type": "execute_result"
    }
   ],
   "source": [
    "list(map(lambda a:a.upper(),l))"
   ]
  },
  {
   "cell_type": "code",
   "execution_count": 150,
   "id": "62ffd3b1",
   "metadata": {},
   "outputs": [],
   "source": [
    "def upper_string(a):\n",
    "    return a.upper()"
   ]
  },
  {
   "cell_type": "code",
   "execution_count": 151,
   "id": "d07a4743",
   "metadata": {},
   "outputs": [
    {
     "data": {
      "text/plain": [
       "['DINESH', 'HARI', 'SRINU']"
      ]
     },
     "execution_count": 151,
     "metadata": {},
     "output_type": "execute_result"
    }
   ],
   "source": [
    "list(map(upper_string,l))"
   ]
  },
  {
   "cell_type": "code",
   "execution_count": 153,
   "id": "7ad3efba",
   "metadata": {},
   "outputs": [
    {
     "data": {
      "text/plain": [
       "[6, 4, 5]"
      ]
     },
     "execution_count": 153,
     "metadata": {},
     "output_type": "execute_result"
    }
   ],
   "source": [
    "list(map(len,l))"
   ]
  },
  {
   "cell_type": "code",
   "execution_count": 158,
   "id": "723c79b6",
   "metadata": {},
   "outputs": [],
   "source": [
    "def len_str(a):\n",
    "    return len(a)"
   ]
  },
  {
   "cell_type": "code",
   "execution_count": 159,
   "id": "4fd4e514",
   "metadata": {},
   "outputs": [
    {
     "data": {
      "text/plain": [
       "[6, 4, 5]"
      ]
     },
     "execution_count": 159,
     "metadata": {},
     "output_type": "execute_result"
    }
   ],
   "source": [
    "list(map(len_str,l))"
   ]
  },
  {
   "cell_type": "markdown",
   "id": "401a650b",
   "metadata": {},
   "source": [
    "# Filter Function"
   ]
  },
  {
   "cell_type": "code",
   "execution_count": 177,
   "id": "96d419cf",
   "metadata": {},
   "outputs": [],
   "source": [
    "l=[1,2,3,4,5,6,7,8]"
   ]
  },
  {
   "cell_type": "code",
   "execution_count": 178,
   "id": "7c1fc5e7",
   "metadata": {},
   "outputs": [
    {
     "data": {
      "text/plain": [
       "[2, 4, 6, 8]"
      ]
     },
     "execution_count": 178,
     "metadata": {},
     "output_type": "execute_result"
    }
   ],
   "source": [
    "[i for i in l if i%2==0] "
   ]
  },
  {
   "cell_type": "code",
   "execution_count": 180,
   "id": "de8fcd3c",
   "metadata": {},
   "outputs": [],
   "source": [
    "def test(a):\n",
    "    l=[]\n",
    "    if type(a)==list:\n",
    "        for i in a:\n",
    "            if i%2==0:\n",
    "                l.append(i)\n",
    "        return l"
   ]
  },
  {
   "cell_type": "code",
   "execution_count": 181,
   "id": "e0b4de00",
   "metadata": {},
   "outputs": [
    {
     "data": {
      "text/plain": [
       "[2, 4, 6, 8]"
      ]
     },
     "execution_count": 181,
     "metadata": {},
     "output_type": "execute_result"
    }
   ],
   "source": [
    "test(l)"
   ]
  },
  {
   "cell_type": "code",
   "execution_count": 182,
   "id": "36619f93",
   "metadata": {},
   "outputs": [],
   "source": [
    "a=lambda a:a if a%2==0 else None"
   ]
  },
  {
   "cell_type": "code",
   "execution_count": 185,
   "id": "78f097ce",
   "metadata": {},
   "outputs": [
    {
     "data": {
      "text/plain": [
       "[None, 2, None, 4, None, 6, None, 8]"
      ]
     },
     "execution_count": 185,
     "metadata": {},
     "output_type": "execute_result"
    }
   ],
   "source": [
    "list(map(a,l))"
   ]
  },
  {
   "cell_type": "code",
   "execution_count": 186,
   "id": "4a5b3c1b",
   "metadata": {},
   "outputs": [
    {
     "data": {
      "text/plain": [
       "[2, 4, 6, 8]"
      ]
     },
     "execution_count": 186,
     "metadata": {},
     "output_type": "execute_result"
    }
   ],
   "source": [
    "list(filter(a,l))"
   ]
  },
  {
   "cell_type": "code",
   "execution_count": null,
   "id": "3bbd19ea",
   "metadata": {},
   "outputs": [],
   "source": [
    "# def test24(a):\n",
    "    if a%2==0:\n",
    "        return True\n",
    "    else:\n",
    "        return False"
   ]
  },
  {
   "cell_type": "code",
   "execution_count": 198,
   "id": "a9e47271",
   "metadata": {},
   "outputs": [
    {
     "data": {
      "text/plain": [
       "True"
      ]
     },
     "execution_count": 198,
     "metadata": {},
     "output_type": "execute_result"
    }
   ],
   "source": [
    "test24(32)"
   ]
  },
  {
   "cell_type": "code",
   "execution_count": 199,
   "id": "f5f332c7",
   "metadata": {},
   "outputs": [
    {
     "data": {
      "text/plain": [
       "False"
      ]
     },
     "execution_count": 199,
     "metadata": {},
     "output_type": "execute_result"
    }
   ],
   "source": [
    "test24(43)"
   ]
  },
  {
   "cell_type": "code",
   "execution_count": 3,
   "id": "ec95657d",
   "metadata": {},
   "outputs": [
    {
     "ename": "NameError",
     "evalue": "name 'l' is not defined",
     "output_type": "error",
     "traceback": [
      "\u001b[1;31m---------------------------------------------------------------------------\u001b[0m",
      "\u001b[1;31mNameError\u001b[0m                                 Traceback (most recent call last)",
      "\u001b[1;32m<ipython-input-3-cde25b5e10ad>\u001b[0m in \u001b[0;36m<module>\u001b[1;34m\u001b[0m\n\u001b[1;32m----> 1\u001b[1;33m \u001b[0ml\u001b[0m\u001b[1;33m\u001b[0m\u001b[1;33m\u001b[0m\u001b[0m\n\u001b[0m",
      "\u001b[1;31mNameError\u001b[0m: name 'l' is not defined"
     ]
    }
   ],
   "source": [
    "l"
   ]
  },
  {
   "cell_type": "code",
   "execution_count": 201,
   "id": "2dc1927e",
   "metadata": {},
   "outputs": [
    {
     "data": {
      "text/plain": [
       "36"
      ]
     },
     "execution_count": 201,
     "metadata": {},
     "output_type": "execute_result"
    }
   ],
   "source": [
    "sum(l)"
   ]
  },
  {
   "cell_type": "markdown",
   "id": "9cedbb48",
   "metadata": {},
   "source": [
    "# reduce function"
   ]
  },
  {
   "cell_type": "code",
   "execution_count": 5,
   "id": "12107fa3",
   "metadata": {},
   "outputs": [],
   "source": [
    "l=[1,2,3,4,5]"
   ]
  },
  {
   "cell_type": "code",
   "execution_count": 6,
   "id": "43950d05",
   "metadata": {},
   "outputs": [],
   "source": [
    "from functools import reduce"
   ]
  },
  {
   "cell_type": "code",
   "execution_count": 7,
   "id": "a4850024",
   "metadata": {},
   "outputs": [
    {
     "data": {
      "text/plain": [
       "120"
      ]
     },
     "execution_count": 7,
     "metadata": {},
     "output_type": "execute_result"
    }
   ],
   "source": [
    "reduce(lambda a,b:a*b,l)"
   ]
  },
  {
   "cell_type": "code",
   "execution_count": 9,
   "id": "e80ccb41",
   "metadata": {},
   "outputs": [
    {
     "ename": "TypeError",
     "evalue": "<lambda>() missing 1 required positional argument: 'c'",
     "output_type": "error",
     "traceback": [
      "\u001b[1;31m---------------------------------------------------------------------------\u001b[0m",
      "\u001b[1;31mTypeError\u001b[0m                                 Traceback (most recent call last)",
      "\u001b[1;32m<ipython-input-9-8f8c8ab60fb7>\u001b[0m in \u001b[0;36m<module>\u001b[1;34m\u001b[0m\n\u001b[1;32m----> 1\u001b[1;33m \u001b[0mreduce\u001b[0m\u001b[1;33m(\u001b[0m\u001b[1;32mlambda\u001b[0m \u001b[0ma\u001b[0m\u001b[1;33m,\u001b[0m\u001b[0mb\u001b[0m\u001b[1;33m,\u001b[0m\u001b[0mc\u001b[0m\u001b[1;33m:\u001b[0m\u001b[0ma\u001b[0m\u001b[1;33m*\u001b[0m\u001b[0mb\u001b[0m\u001b[1;33m*\u001b[0m\u001b[0mc\u001b[0m\u001b[1;33m,\u001b[0m\u001b[0ml\u001b[0m\u001b[1;33m)\u001b[0m\u001b[1;33m\u001b[0m\u001b[1;33m\u001b[0m\u001b[0m\n\u001b[0m",
      "\u001b[1;31mTypeError\u001b[0m: <lambda>() missing 1 required positional argument: 'c'"
     ]
    }
   ],
   "source": [
    "reduce(lambda a,b,c:a*b*c,l)"
   ]
  },
  {
   "cell_type": "code",
   "execution_count": 10,
   "id": "7f84af96",
   "metadata": {},
   "outputs": [
    {
     "data": {
      "text/plain": [
       "3"
      ]
     },
     "execution_count": 10,
     "metadata": {},
     "output_type": "execute_result"
    }
   ],
   "source": [
    "l1=[3]\n",
    "reduce(lambda a,b:a*b,l1)"
   ]
  },
  {
   "cell_type": "code",
   "execution_count": null,
   "id": "18e23ece",
   "metadata": {},
   "outputs": [],
   "source": [
    "# def test1(a:int,b) ->int:\n",
    "    \"\"\"This is my doc string to give a hint to next programmer\"\"\"\n",
    "    return a+b"
   ]
  },
  {
   "cell_type": "code",
   "execution_count": 18,
   "id": "dda73efd",
   "metadata": {},
   "outputs": [
    {
     "data": {
      "text/plain": [
       "30"
      ]
     },
     "execution_count": 18,
     "metadata": {},
     "output_type": "execute_result"
    }
   ],
   "source": [
    "test1(10,20)"
   ]
  },
  {
   "cell_type": "markdown",
   "id": "1a287388",
   "metadata": {},
   "source": [
    "# Default arguments"
   ]
  },
  {
   "cell_type": "code",
   "execution_count": 23,
   "id": "7eb19fd7",
   "metadata": {},
   "outputs": [],
   "source": [
    "def test1(a:int,b:float,c:int=220) ->int:\n",
    "    \"\"\"This is my doc string to give a hint to next programmer\"\"\"\n",
    "    return a+b+c"
   ]
  },
  {
   "cell_type": "code",
   "execution_count": 24,
   "id": "f71f3c34",
   "metadata": {},
   "outputs": [
    {
     "data": {
      "text/plain": [
       "245"
      ]
     },
     "execution_count": 24,
     "metadata": {},
     "output_type": "execute_result"
    }
   ],
   "source": [
    "test1(12,13)"
   ]
  },
  {
   "cell_type": "code",
   "execution_count": 26,
   "id": "910ff361",
   "metadata": {},
   "outputs": [
    {
     "data": {
      "text/plain": [
       "365"
      ]
     },
     "execution_count": 26,
     "metadata": {},
     "output_type": "execute_result"
    }
   ],
   "source": [
    "test1(12,13,340)"
   ]
  },
  {
   "cell_type": "markdown",
   "id": "1c2ed204",
   "metadata": {},
   "source": [
    "# Arguments passing in python"
   ]
  },
  {
   "cell_type": "markdown",
   "id": "ff7ea750",
   "metadata": {},
   "source": [
    "- In programming there are two ways in which arguments can be passed to functions:\n",
    "   1. Pass by value\n",
    "   2. Pass by reference\n",
    "   \n",
    "   \n",
    " - some languages use pass by reference and some pass by value.But some languages support both pass by value and pass by reference.\n",
    "\n",
    " - In python we don't have to think about pass by value and pass by reference as it does that automatically for you .To emulate this using python we use the concept of mutability.If the argument passed is immutable then it follows pass by value, else if the argument passed is mutable then it follows pass by reference.\n"
   ]
  },
  {
   "cell_type": "markdown",
   "id": "f224a467",
   "metadata": {},
   "source": [
    "# Pass by value"
   ]
  },
  {
   "cell_type": "code",
   "execution_count": 27,
   "id": "28fd17e5",
   "metadata": {},
   "outputs": [
    {
     "name": "stdout",
     "output_type": "stream",
     "text": [
      "Before function call 10\n",
      "In function 30\n",
      "After function call= 10\n"
     ]
    }
   ],
   "source": [
    "def f1(a):\n",
    "    a+=20\n",
    "    print('In function',a)\n",
    "num=10\n",
    "print(\"Before function call\",num)     #Here both formal(a) and actual arguments(n) point to different variables\n",
    "                                    #Variables are iimmutables\n",
    "f1(num)\n",
    "print(\"After function call=\",num)"
   ]
  },
  {
   "cell_type": "markdown",
   "id": "0d0609df",
   "metadata": {},
   "source": [
    "# Pass by reference "
   ]
  },
  {
   "cell_type": "code",
   "execution_count": 31,
   "id": "32b35992",
   "metadata": {},
   "outputs": [
    {
     "name": "stdout",
     "output_type": "stream",
     "text": [
      "Before function call,num = [10]\n",
      "In function,num= [10, 20]\n",
      "After function call, num= [10, 20]\n"
     ]
    }
   ],
   "source": [
    "def f2(arg):\n",
    "    arg+=[20]\n",
    "    print(\"In function,num=\",arg)\n",
    "n=[10]\n",
    "print(\"Before function call,num =\",n)\n",
    "f2(n)\n",
    "print(\"After function call, num=\",n)"
   ]
  },
  {
   "cell_type": "code",
   "execution_count": null,
   "id": "2e33f546",
   "metadata": {},
   "outputs": [],
   "source": []
  }
 ],
 "metadata": {
  "kernelspec": {
   "display_name": "Python 3",
   "language": "python",
   "name": "python3"
  },
  "language_info": {
   "codemirror_mode": {
    "name": "ipython",
    "version": 3
   },
   "file_extension": ".py",
   "mimetype": "text/x-python",
   "name": "python",
   "nbconvert_exporter": "python",
   "pygments_lexer": "ipython3",
   "version": "3.8.8"
  }
 },
 "nbformat": 4,
 "nbformat_minor": 5
}
