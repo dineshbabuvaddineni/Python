{
 "cells": [
  {
   "cell_type": "raw",
   "id": "241658de",
   "metadata": {},
   "source": [
    " 1. Print the first 5 positive integers in ascending order with one number in each line"
   ]
  },
  {
   "cell_type": "code",
   "execution_count": 4,
   "id": "a41fd8d4",
   "metadata": {},
   "outputs": [
    {
     "name": "stdout",
     "output_type": "stream",
     "text": [
      "1 2 3 4 5 "
     ]
    }
   ],
   "source": [
    "for i in range(5):\n",
    "    print(i+1,end=\" \")"
   ]
  },
  {
   "cell_type": "code",
   "execution_count": 10,
   "id": "03366865",
   "metadata": {},
   "outputs": [
    {
     "name": "stdout",
     "output_type": "stream",
     "text": [
      "1\n",
      "2\n",
      "3\n",
      "4\n",
      "5\n"
     ]
    }
   ],
   "source": [
    "i=1\n",
    "while(i<6):\n",
    "    print(i)\n",
    "    i=i+1"
   ]
  },
  {
   "cell_type": "raw",
   "id": "ae29a0f4",
   "metadata": {},
   "source": [
    "2. Print the following pattern\n",
    "*\n",
    "**\n",
    "***\n",
    "****\n",
    "*****\n",
    "There are no spaces between consecutive stars. There are no spaces \n",
    "at the end of each line."
   ]
  },
  {
   "cell_type": "code",
   "execution_count": 6,
   "id": "1467b212",
   "metadata": {},
   "outputs": [
    {
     "name": "stdout",
     "output_type": "stream",
     "text": [
      "*\n",
      "**\n",
      "***\n",
      "****\n",
      "*****\n"
     ]
    }
   ],
   "source": [
    "for i in range(1,6):\n",
    "    for j in range(i):\n",
    "        print(\"*\",end=\"\")\n",
    "    print(\"\")"
   ]
  },
  {
   "cell_type": "code",
   "execution_count": 7,
   "id": "17301600",
   "metadata": {},
   "outputs": [
    {
     "name": "stdout",
     "output_type": "stream",
     "text": [
      "*\n",
      "**\n",
      "***\n",
      "****\n",
      "*****\n"
     ]
    }
   ],
   "source": [
    "for i in range(1,6):\n",
    "    print(\"*\"*i)"
   ]
  },
  {
   "cell_type": "raw",
   "id": "d9263791-a394-44ee-8ba9-4fb01759b6ac",
   "metadata": {},
   "source": [
    "3. Accept an integer as input and print its square as output."
   ]
  },
  {
   "cell_type": "code",
   "execution_count": 12,
   "id": "56fb16b6",
   "metadata": {},
   "outputs": [
    {
     "name": "stdout",
     "output_type": "stream",
     "text": [
      "Enter a number:5\n",
      "25\n"
     ]
    }
   ],
   "source": [
    "n=int(input(\"Enter a number:\"))\n",
    "print(a**2)"
   ]
  },
  {
   "cell_type": "raw",
   "id": "49ca4411-ab36-4e57-8d62-3628156bc49b",
   "metadata": {},
   "source": [
    "4.Accept two integers as input and print their sum as output."
   ]
  },
  {
   "cell_type": "code",
   "execution_count": 14,
   "id": "09011ae5",
   "metadata": {},
   "outputs": [
    {
     "name": "stdout",
     "output_type": "stream",
     "text": [
      "Enter a:12\n",
      "Enter b:14\n",
      "26\n"
     ]
    }
   ],
   "source": [
    "a=int(input(\"Enter a:\"))\n",
    "b=int(input(\"Enter b:\"))\n",
    "print(a+b)"
   ]
  },
  {
   "cell_type": "raw",
   "id": "f303afc2-f3af-4d9d-a4d8-7c2da8f24e3c",
   "metadata": {},
   "source": [
    "5. Accept two words as input and print the two words after adding a \n",
    "space between them"
   ]
  },
  {
   "cell_type": "code",
   "execution_count": 15,
   "id": "d7b35b15",
   "metadata": {},
   "outputs": [
    {
     "name": "stdout",
     "output_type": "stream",
     "text": [
      "Enter word1:dinesh\n",
      "Enter word2:babu\n",
      "dinesh babu\n"
     ]
    }
   ],
   "source": [
    "w1=input(\"Enter word1:\")\n",
    "w2=input(\"Enter word2:\")\n",
    "print(w1+\" \"+w2)"
   ]
  },
  {
   "cell_type": "raw",
   "id": "1fdd53ab-a380-4caa-bdec-2876024a044d",
   "metadata": {},
   "source": [
    "6. Accept the registration number of a vehicle as input and print its \n",
    "state-code as output.\n"
   ]
  },
  {
   "cell_type": "code",
   "execution_count": 19,
   "id": "16c4184b",
   "metadata": {},
   "outputs": [
    {
     "name": "stdout",
     "output_type": "stream",
     "text": [
      "Enter vehicle number:AP09AZ5045\n",
      "State-code: AP\n"
     ]
    }
   ],
   "source": [
    "registration_number=input(\"Enter vehicle number:\")\n",
    "print(\"State-code:\",registration_number[0:2])"
   ]
  },
  {
   "cell_type": "raw",
   "id": "e476d0d4-2d90-4764-b4ce-91d6d67729c2",
   "metadata": {},
   "source": [
    "7.Accept a five-digit number as input and print the sum of its digits as \n",
    "output."
   ]
  },
  {
   "cell_type": "code",
   "execution_count": 47,
   "id": "61743309",
   "metadata": {},
   "outputs": [
    {
     "name": "stdout",
     "output_type": "stream",
     "text": [
      "12345\n",
      "15\n"
     ]
    }
   ],
   "source": [
    "n=input()\n",
    "sum=0\n",
    "if len(n)==5:\n",
    "    for i in range(len(n)+1):\n",
    "        sum=sum+i\n",
    "    print(sum)\n",
    "    \n",
    "    "
   ]
  },
  {
   "cell_type": "code",
   "execution_count": 28,
   "id": "24730cb7",
   "metadata": {},
   "outputs": [
    {
     "name": "stdout",
     "output_type": "stream",
     "text": [
      "15\n"
     ]
    }
   ],
   "source": [
    "sum=0\n",
    "i=1\n",
    "while(i<=5):\n",
    "    sum=sum+i\n",
    "    i=i+1\n",
    "print(sum)"
   ]
  },
  {
   "cell_type": "code",
   "execution_count": null,
   "id": "943875e3",
   "metadata": {},
   "outputs": [],
   "source": [
    "num=input(\"Enter a five digit number\")"
   ]
  },
  {
   "cell_type": "raw",
   "id": "47ef2a83-4d51-4340-8770-9490474f43a9",
   "metadata": {},
   "source": [
    "8.Accept five words as input and print the sentence formed by these \n",
    "words after adding a space between consecutive words and a full stop \n",
    "at the end."
   ]
  },
  {
   "cell_type": "code",
   "execution_count": 36,
   "id": "fa02496b",
   "metadata": {},
   "outputs": [
    {
     "name": "stdout",
     "output_type": "stream",
     "text": [
      "I\n",
      "Love \n",
      "My\n",
      "Country\n",
      "India\n",
      "I Love  My Country India.\n"
     ]
    }
   ],
   "source": [
    "w1=input()\n",
    "w2=input()\n",
    "w3=input()\n",
    "w4=input()\n",
    "w5=input()\n",
    "print(w1+\" \"+w2+\" \"+w3+\" \"+w4+\" \"+w5+\".\")"
   ]
  },
  {
   "cell_type": "raw",
   "id": "7b0fb9d7-98dc-4ab9-9548-c12f49f787a0",
   "metadata": {},
   "source": [
    "9.Accept the date in DD-MM-YYYY format as input and print the \n",
    "year as output.\n"
   ]
  },
  {
   "cell_type": "code",
   "execution_count": 37,
   "id": "0ce955ad",
   "metadata": {},
   "outputs": [
    {
     "name": "stdout",
     "output_type": "stream",
     "text": [
      "Enter the current date:12-12-2022\n",
      "2022\n"
     ]
    }
   ],
   "source": [
    "date_for=input(\"Enter the current date:\")\n",
    "print(date_for[6:])"
   ]
  },
  {
   "cell_type": "raw",
   "id": "521abc20-5c4a-4fda-a3d7-45c626ad4d1c",
   "metadata": {},
   "source": [
    "10.Accept a sequence of five single digit numbers separated by commas \n",
    "as input. Print the product of all five numbers."
   ]
  },
  {
   "cell_type": "code",
   "execution_count": 40,
   "id": "b73e854a",
   "metadata": {},
   "outputs": [
    {
     "name": "stdout",
     "output_type": "stream",
     "text": [
      "Product of numbers is: 120\n"
     ]
    }
   ],
   "source": [
    "l=[1,2,3,4,5]\n",
    "m=1\n",
    "for i in l:\n",
    "    m=m*i\n",
    "print(\"Product of numbers is:\",m)"
   ]
  },
  {
   "cell_type": "raw",
   "id": "482e853e-2564-4eaf-a46b-0f31d3369f58",
   "metadata": {},
   "source": [
    "11. Accept two positive integers x and y as input. Print the number of \n",
    "digits in xy"
   ]
  },
  {
   "cell_type": "code",
   "execution_count": 44,
   "id": "e6a31a97",
   "metadata": {},
   "outputs": [
    {
     "name": "stdout",
     "output_type": "stream",
     "text": [
      "num1:3\n",
      "num2:7\n",
      "Number of digits in 3**7: 4\n"
     ]
    }
   ],
   "source": [
    "a=int(input(\"num1:\"))\n",
    "b=int(input(\"num2:\"))\n",
    "c=a**b\n",
    "res=str(c)\n",
    "print(f\"Number of digits in {a}**{b}:\",len(res))\n"
   ]
  },
  {
   "cell_type": "raw",
   "id": "af890b67-6c1f-412c-bbbe-8fc1358e0a91",
   "metadata": {},
   "source": [
    "12. Accept a string as input. If the input string is of odd length, then \n",
    "continue with it. If the input string is of even length, make the \n",
    "string of odd length as below:\n",
    "• If the last character is a period (.), then remove it \n",
    "• If the last character is not a period, then add a period (.) to the \n",
    "end of the string\n",
    "Call this string of odd length word. Select a substring made up of \n",
    "three consecutive characters from word such that there are an \n",
    "equal number of characters to the left and right of this substring. \n",
    "Print this substring as output. You can assume that all input \n",
    "strings will be in lower case and will have a length of at least four"
   ]
  },
  {
   "cell_type": "code",
   "execution_count": 51,
   "id": "c818efb4",
   "metadata": {},
   "outputs": [
    {
     "name": "stdout",
     "output_type": "stream",
     "text": [
      "Dinesh\n",
      "nes\n"
     ]
    }
   ],
   "source": [
    "s=input()\n",
    "n=len(s)\n",
    "if n%2==0:\n",
    "    if s[n-1]=='.':\n",
    "        s=s[:-1]\n",
    "    else:\n",
    "        s=s+'.'\n",
    "n=int((len(s)-1)/2)\n",
    "print(s[n-1:n+2])\n",
    "    "
   ]
  },
  {
   "cell_type": "code",
   "execution_count": 52,
   "id": "a75dfe8f",
   "metadata": {},
   "outputs": [
    {
     "name": "stdout",
     "output_type": "stream",
     "text": [
      "raman\n",
      "ama\n"
     ]
    }
   ],
   "source": [
    "s=input()\n",
    "n=len(s)\n",
    "if n%2==0:\n",
    "    if s[n-1]=='.':\n",
    "        s=s[:-1]\n",
    "    else:\n",
    "        s=s+'.'\n",
    "n=int((len(s)-1)/2)\n",
    "print(s[n-1:n+2])"
   ]
  },
  {
   "cell_type": "raw",
   "id": "7188ddf7-aeae-43c7-add9-8a31e08a2bc9",
   "metadata": {},
   "source": [
    "13. Accept three positive integers as input and check if they form the \n",
    "sides of a right triangle. Print YES if they form one, and NO is they do \n",
    "not. The input will have three lines, with one integer on each line. \n",
    "The output should be a single line containing one of these two \n",
    "strings: YES or NO."
   ]
  },
  {
   "cell_type": "code",
   "execution_count": 54,
   "id": "3f3a62b9",
   "metadata": {},
   "outputs": [
    {
     "name": "stdout",
     "output_type": "stream",
     "text": [
      "3\n",
      "4\n",
      "5\n",
      "Yes\n"
     ]
    }
   ],
   "source": [
    "x=int(input())\n",
    "y=int(input())\n",
    "z=int(input())\n",
    "if (x**2+y**2==z**2) or (y**2+z**2==x**2) or (x**2+z**2==y**2):\n",
    "    print(\"Yes\")\n",
    "else:\n",
    "    print(\"No\")"
   ]
  },
  {
   "cell_type": "raw",
   "id": "5e16b40c-a122-4dbc-a681-bca1fe32a1dc",
   "metadata": {},
   "source": [
    "14. EvenOdd is a tech startup. Each employee at the startup is given an employee id which is a unique \n",
    "positive integer. On one warm Sunday evening, five employees of the company come together for a \n",
    "meeting and sit at a circular table:\n",
    "The employees follow a strange convention. They will continue the meeting only if the following \n",
    "condition is satisfied.\n",
    "The sum of the employee-ids of every pair of adjacent employees at the table must be an even \n",
    "number.\n",
    "They are so lazy that they won’t move around to satisfy the above condition, If the current seating \n",
    "plan doesn’t satisfy the condition, the meeting will be cancelled. You are given the employee-id of all \n",
    "five employees. Your task is to decide if the meeting happened or not.\n",
    "The input will be five lined, each containing an integer. The ith line will have the employee-id of Ei. \n",
    "The output will be a single line containing one of these two strings: YES or NO"
   ]
  },
  {
   "cell_type": "code",
   "execution_count": 55,
   "id": "977fb08c",
   "metadata": {},
   "outputs": [
    {
     "name": "stdout",
     "output_type": "stream",
     "text": [
      "1\n",
      "2\n",
      "3\n",
      "5\n",
      "7\n",
      "No\n"
     ]
    }
   ],
   "source": [
    "e1=int(input())\n",
    "e2=int(input())\n",
    "e3=int(input())\n",
    "e4=int(input())\n",
    "e5=int(input())\n",
    "if ((e1+e2)%2==0 and\n",
    "    (e2+e3)%2==0 and\n",
    "    (e3+e4)%2==0 and\n",
    "    (e4+e5)%2==0 and\n",
    "    (e5+e1)%2==0 ):\n",
    "    print(\"Yes\")\n",
    "else:\n",
    "    print(\"No\")\n"
   ]
  },
  {
   "cell_type": "raw",
   "id": "1d651eb9-add5-4f2b-9a92-57303f327be3",
   "metadata": {},
   "source": [
    "15. Accept a string as input and print the vowels present in the string in \n",
    "alphabetical order. If the string doesn’t contain any vowels, then \n",
    "print the string none as output. Each vowel that appears in the input \n",
    "string – irrespective of its case should appear just once in lower case \n",
    "in the output"
   ]
  },
  {
   "cell_type": "code",
   "execution_count": 62,
   "id": "8b339c50",
   "metadata": {},
   "outputs": [
    {
     "name": "stdout",
     "output_type": "stream",
     "text": [
      "ineuron\n",
      "['i', 'e', 'u', 'o']\n"
     ]
    }
   ],
   "source": [
    "s=input().lower()\n",
    "l1=[]\n",
    "l=['a','e','i','o','u']\n",
    "for i in s:\n",
    "    if type(s)==str:\n",
    "        if i in l:\n",
    "            l1.append(i)\n",
    "    else:\n",
    "        print(\"None\")\n",
    "print(l1)\n",
    "\n",
    "\n",
    "        \n",
    "        "
   ]
  },
  {
   "cell_type": "raw",
   "id": "f7e76b4b-b3f7-4766-a82b-5e63a879b380",
   "metadata": {},
   "source": [
    "16.You are given the date of birth of two persons, not necessarily from \n",
    "the same family. Your task is to find the younger of the two. If both \n",
    "of them share the same date of birth, then the younger of the two is \n",
    "assumed to be that person whose name comes first in alphabetical \n",
    "order.\n",
    "The input will have four lines. The first two lines correspond to the \n",
    "first person, while the last two lines correspond to the second \n",
    "person. For each person, the first line corresponds to the name and \n",
    "the second line corresponds to the date of birth in “DD-MM-YYYY” \n",
    "format. Your output should be the name of the younger of the two."
   ]
  },
  {
   "cell_type": "code",
   "execution_count": 115,
   "id": "5c447558",
   "metadata": {},
   "outputs": [
    {
     "name": "stdout",
     "output_type": "stream",
     "text": [
      "dinesh\n",
      "16-08-2000\n",
      "ram\n",
      "02-11-1999\n",
      "dinesh\n"
     ]
    }
   ],
   "source": [
    "\n",
    "n1 = input()\n",
    "d1 = input()\n",
    "n2 = input()\n",
    "d2 = input()\n",
    "if d1==d2 :\n",
    "     if n1<n2 :\n",
    "         print(n1)\n",
    "     else :\n",
    "         print(n2)\n",
    "elif d1[-4:] != d2[-4:] :\n",
    "     if int(d1[-4:]) < int(d2[-4:]):\n",
    "         print(n2)\n",
    "     else :\n",
    "         print(n1)\n",
    "elif d1[3:5] != d2[3:5]:\n",
    "     if int(d1[3:5]) < int(d2[3:5]):\n",
    "         print(n2)\n",
    "     else :\n",
    "         print(n1)\n",
    "else :\n",
    "     if int(d1[0:2]) < int(d2[0:2]):\n",
    "         print(n2)\n",
    "     else :\n",
    "         print(n1)"
   ]
  },
  {
   "cell_type": "raw",
   "id": "6ee8f8bd-15aa-40d8-9cef-2f7e22f6cf5d",
   "metadata": {},
   "source": [
    "17.Accept a string as input. Your task is to determine if the input string is a valid password or not. For a \n",
    "string to be a valid password, it must satisfy all the conditions given below:\n",
    "(1) It should have at least 8 and at most 32 characters\n",
    "(2) It should start with an uppercase or lowercase letter\n",
    "(3) It should not have any of these characters: / \\ = ' \"\n",
    "(4) It should not have spaces\n",
    "It could have any character that is not mentioned in the list of characters to be avoided (points 3 and \n",
    "4). Output True if the string forms a valid password and False otherwise"
   ]
  },
  {
   "cell_type": "code",
   "execution_count": 69,
   "id": "d7fd1a2e",
   "metadata": {},
   "outputs": [
    {
     "name": "stdout",
     "output_type": "stream",
     "text": [
      "Balaji@#$234\n",
      "True\n"
     ]
    }
   ],
   "source": [
    "p=input()\n",
    "if 8<len(p)<=32 and p[0].isalpha() and '/' not in p and '\\\\' not in p and '=' not in p and '\\'' not in p and '\\\"' not in p: \n",
    "    print(\"True\")\n",
    "else:\n",
    "    print(\"False\")\n"
   ]
  },
  {
   "cell_type": "raw",
   "id": "a4d2f09c-6787-477e-8ed5-4ed4257469cb",
   "metadata": {},
   "source": [
    "18. Accept a positive integer n as input and print the first n positive \n",
    "integers, one number on each line."
   ]
  },
  {
   "cell_type": "code",
   "execution_count": 72,
   "id": "a56884de",
   "metadata": {},
   "outputs": [
    {
     "name": "stdout",
     "output_type": "stream",
     "text": [
      "Enter a number:8\n",
      "1\n",
      "2\n",
      "3\n",
      "4\n",
      "5\n",
      "6\n",
      "7\n",
      "8\n",
      "9\n"
     ]
    }
   ],
   "source": [
    "n=int(input(\"Enter a number:\"))\n",
    "for i in range(n+1):\n",
    "    print(i+1)"
   ]
  },
  {
   "cell_type": "raw",
   "id": "0527265b-0110-476d-8bf6-6a724749197e",
   "metadata": {},
   "source": [
    "19.Accept a positive integer n as input, where n is greater than 1. \n",
    "Print PRIME ifnis a prime number and NOTPRIME otherwise."
   ]
  },
  {
   "cell_type": "code",
   "execution_count": 81,
   "id": "06726623",
   "metadata": {},
   "outputs": [
    {
     "name": "stdout",
     "output_type": "stream",
     "text": [
      "Enter a number:5\n",
      "prime Number\n"
     ]
    }
   ],
   "source": [
    "n=int(input(\"Enter a number:\"))\n",
    "for i in range(2,n):\n",
    "    if n%i==0 :\n",
    "        print(\"Not a Prime\")\n",
    "else:\n",
    "        print(\"prime Number\")"
   ]
  },
  {
   "cell_type": "raw",
   "id": "8d8297d3-a658-4afd-9b7f-b2ee198faa52",
   "metadata": {},
   "source": [
    "20. Accept two strings as input and form a new string by removing all \n",
    "characters from the second string which are present in the first string. \n",
    "Print this new string as output. You can assume that all input strings \n",
    "will be in lower case."
   ]
  },
  {
   "cell_type": "code",
   "execution_count": 74,
   "id": "1580995e",
   "metadata": {},
   "outputs": [
    {
     "name": "stdout",
     "output_type": "stream",
     "text": [
      "ram\n",
      "sam\n",
      "s\n"
     ]
    }
   ],
   "source": [
    "a=input()\n",
    "b=input()\n",
    "for c in a:\n",
    "    if c in b:\n",
    "        b=b.replace(c,'')\n",
    "print(b)"
   ]
  },
  {
   "cell_type": "raw",
   "id": "9d4ca698-02c3-415a-8b99-7b59c5702d8d",
   "metadata": {},
   "source": [
    "21.Accept a phone number as input. A valid phone number should satisfy \n",
    "the following constraints.\n",
    "(1) The number should start with one of these digits: 6, 7, 8, 9\n",
    "(2) The number should be exactly 10 digits long.\n",
    "(3) No digit should appear more than 7 times in the number.\n",
    "(4) No digit should appear more than 5 times in a row in the \n",
    "number.\n",
    "If the fourth condition is not very clear, then consider this example: \n",
    "the number 9888888765 is invalid because the digit 8 appears more \n",
    "than 5 times in a row. Print the string valid if the phone number is \n",
    "valid. If not, print the string invalid."
   ]
  },
  {
   "cell_type": "code",
   "execution_count": 9,
   "id": "e83dbca6",
   "metadata": {},
   "outputs": [
    {
     "name": "stdout",
     "output_type": "stream",
     "text": [
      "8987867612\n",
      "Valid\n"
     ]
    }
   ],
   "source": [
    "n=input()\n",
    "a=False\n",
    "if len(n)==10 and int(n[0])>5 and n.isdigit():\n",
    "    for i in range(10):\n",
    "        if n.count(n[i])<8:\n",
    "            a=True\n",
    "            if n[i]*6 in n:\n",
    "                a=False\n",
    "                break\n",
    "            else:\n",
    "                break\n",
    "if a:\n",
    "    print(\"Valid\")\n",
    "else:\n",
    "    print(\"Invalid\")"
   ]
  },
  {
   "cell_type": "raw",
   "id": "781b0869-d8b7-4f2f-b4cd-16d0e128fd0f",
   "metadata": {},
   "source": [
    "22. In the first line of input, accept a sequence of space-separated words. In the second line of \n",
    "input, accept a single word. If this word is not present in the sequence, print NO. If this word \n",
    "is present in the sequence, then print YES and in the next line of the output, print the number \n",
    "of times the word appears in the sequence."
   ]
  },
  {
   "cell_type": "code",
   "execution_count": 11,
   "id": "4e90913f",
   "metadata": {},
   "outputs": [
    {
     "name": "stdout",
     "output_type": "stream",
     "text": [
      "dinesh hari dinesh hello\n",
      "dinesh\n",
      "YES\n",
      "2\n"
     ]
    }
   ],
   "source": [
    "w1=input().split(\" \")\n",
    "w2=input()\n",
    "if w2 in w1:\n",
    "    print(\"YES\")\n",
    "    print(w1.count(w2))\n",
    "else:\n",
    "    print(\"No\")"
   ]
  },
  {
   "cell_type": "raw",
   "id": "ea752210-2e2a-428b-937c-31251daf7ba8",
   "metadata": {},
   "source": [
    "23. Write a function named factorial that accepts an integer n as argument. It should return \n",
    "the factorial of n if n is a positive integer. It should return -1 if n is a negative integer, and it \n",
    "should return 1 if n is zero."
   ]
  },
  {
   "cell_type": "code",
   "execution_count": 18,
   "id": "9f1fdd0e",
   "metadata": {},
   "outputs": [
    {
     "name": "stdout",
     "output_type": "stream",
     "text": [
      "-1\n",
      "-1\n"
     ]
    }
   ],
   "source": [
    "def factorial(n):\n",
    "    if n>0:\n",
    "        fact=1\n",
    "        for i in range(1,n+1):\n",
    "            fact=i*fact\n",
    "        return fact\n",
    "    elif n<0:\n",
    "        return -1\n",
    "    else:\n",
    "        return 1\n",
    "n=int(input())\n",
    "print(factorial(n))\n",
    "        "
   ]
  },
  {
   "cell_type": "raw",
   "id": "c757a0b6-8450-47af-9b1f-f6ce69ebc775",
   "metadata": {},
   "source": [
    "24. \n",
    "The range of a list of numbers is the difference between the maximum and minimum values in the list\n",
    "Write a function named get_range that accepts a non-empty list of real numbers as argument. It \n",
    "should return the range of the list.\n",
    "(1) Avoid using built-in function such as max and min.\n",
    "(2) You do not have to accept input from the user or print output to the console. You just have to write \n",
    "the function definition."
   ]
  },
  {
   "cell_type": "code",
   "execution_count": 20,
   "id": "78bc7f9d",
   "metadata": {},
   "outputs": [
    {
     "name": "stdout",
     "output_type": "stream",
     "text": [
      "31\n"
     ]
    }
   ],
   "source": [
    "l=[7,12,3,4,8,34]\n",
    "def range_list(a):\n",
    "    l.sort()\n",
    "    range=l[-1]-l[0]\n",
    "    return range\n",
    "print(range_list(l))\n",
    "\n",
    "    "
   ]
  },
  {
   "cell_type": "code",
   "execution_count": null,
   "id": "d4fa1353",
   "metadata": {},
   "outputs": [],
   "source": [
    "def get_max(l):\n",
    "    maxi=L[0]\n",
    "    for x in L:\n",
    "        if x>maxi:\n",
    "            maxi=x\n",
    "    return maxi\n",
    "def get_min(L):\n",
    "    mini=l[0]\n",
    "    for x in L:\n",
    "        if x<mini:\n",
    "            mini=x\n",
    "    return mini\n",
    "def get_range(L):\n",
    "    maxi=get_max(L)\n",
    "    mini=get_mini(L)\n",
    "    return maxi-mini"
   ]
  },
  {
   "cell_type": "raw",
   "id": "8f3ba3db-9ed9-4c14-ac23-41f3225ad874",
   "metadata": {},
   "source": [
    "25. Write a function named read_file that accepts a text file named filename as argument. Within \n",
    "the function, read the file and print each line of the file on a separate line in the console. You shouldn't \n",
    "print any extra characters at the end of a line. There shouldn't be an empty line between any two \n",
    "consecutive lines.\n",
    "(1) filename is a string variable that holds the name of the file. For example, in the first test case, it \n",
    "is filename = 'public_1.txt'.\n",
    "(2) You do not have to accept input from the console. You have to write the function definition and \n",
    "print the contents of the file within the function"
   ]
  },
  {
   "cell_type": "code",
   "execution_count": 85,
   "id": "4e32e21b",
   "metadata": {},
   "outputs": [],
   "source": [
    "\n",
    "def read_file(filename):\n",
    "    f = open(filename, 'r')\n",
    "    for line in f:\n",
    "        print(line.strip())\n",
    "    f.close()"
   ]
  },
  {
   "cell_type": "code",
   "execution_count": 87,
   "id": "7c05a7cf",
   "metadata": {},
   "outputs": [
    {
     "name": "stdout",
     "output_type": "stream",
     "text": [
      "This is DogThis is catThis is horseThis is ElephanThis is Dog This is cat This is horse This is Elephant I am dineshdog cat  rat\n"
     ]
    }
   ],
   "source": [
    "read_file(\"file1.txt\")"
   ]
  },
  {
   "cell_type": "raw",
   "id": "b2d94805-f65b-47c2-9d18-2a8bdbe5c2dc",
   "metadata": {},
   "source": [
    "26. A simple algorithm has to be designed to find out whether a student \n",
    "belongs to the Data Science branch or not. The input will be a \n",
    "student's roll number, which is of the form BR18B0000. \n",
    "Here, BR represents the branch code, 18 represents the year of \n",
    "joining, B represents the education level and 0000 represents the \n",
    "specific identification given to the student of that batch. The branch \n",
    "code for Data Science is DS. Print True if the student belongs to \n",
    "Data Science branch and False otherwise."
   ]
  },
  {
   "cell_type": "code",
   "execution_count": 21,
   "id": "11c3910d",
   "metadata": {},
   "outputs": [
    {
     "name": "stdout",
     "output_type": "stream",
     "text": [
      "DS120000\n",
      "True\n"
     ]
    }
   ],
   "source": [
    "r=input()\n",
    "if r[0:2]==\"DS\":\n",
    "    print(\"True\")\n",
    "else:\n",
    "    print(\"False\")"
   ]
  },
  {
   "cell_type": "raw",
   "id": "52e69e6b-ab1d-411c-8750-7a2de08bc8dd",
   "metadata": {},
   "source": [
    "27.The police are trying to track a criminal based on the evidence \n",
    "available at a crime site. Their main clue is a vehicle's damaged \n",
    "number plate. Only the string TN07 is visible. The format of the \n",
    "registration number is AA00AA00, where the first two letters are \n",
    "alphabets, next two are numbers, next two are again alphabets \n",
    "followed by two numbers at the end. A number plate is picked from a \n",
    "database of registration numbers and is given to you as input. Your \n",
    "task is to determine if this could belong to the criminal or not. \n",
    "Print True if the number plate \n",
    "contains TN07 and False otherwise."
   ]
  },
  {
   "cell_type": "code",
   "execution_count": 23,
   "id": "c09a2462",
   "metadata": {},
   "outputs": [
    {
     "name": "stdout",
     "output_type": "stream",
     "text": [
      "AB00TN07\n",
      "False\n"
     ]
    }
   ],
   "source": [
    "n=input()\n",
    "if(n[0:4]==\"TN07\" and n[4:8]==\"TN07\"):\n",
    "    print(\"True\")\n",
    "else:\n",
    "    print(\"False\")"
   ]
  },
  {
   "cell_type": "raw",
   "id": "11b4a079-30a1-480d-a759-2b54ab29f90f",
   "metadata": {},
   "source": [
    "28. You are given a string and two non-negative integers as input. The \n",
    "two integers specify the start and end indices of a substring in the \n",
    "given string. Create a new string by replicating the substring a \n",
    "minimum number of times so that the resulting string is longer than \n",
    "the input string. The input parameters are the string, start index of \n",
    "the substring and the end index of substring (endpoints inclusive) \n",
    "each on a different line."
   ]
  },
  {
   "cell_type": "code",
   "execution_count": 24,
   "id": "1699c411",
   "metadata": {},
   "outputs": [
    {
     "name": "stdout",
     "output_type": "stream",
     "text": [
      "variable\n",
      "3\n",
      "5\n",
      "iabiab\n"
     ]
    }
   ],
   "source": [
    "s=input()\n",
    "a=int(input())\n",
    "b=int(input())\n",
    "x=s[a:b+1]\n",
    "y=len(x)\n",
    "ans=\"\"\n",
    "while(y>=len(ans)):\n",
    "    ans+=x\n",
    "print(ans)\n"
   ]
  },
  {
   "cell_type": "raw",
   "id": "2c2d9d8e-e84a-4ca1-8791-8033b8e650a0",
   "metadata": {},
   "source": [
    "29. A class teacher has decided to split her entire class into four groups, namely Sapphire, Peridot, Ruby, \n",
    "and Emerald for sports competitions. For dividing the students into these four groups, she has \n",
    "followed the pattern given below:\n",
    "Sapphire - 1, 5, 9, 13, 17, 21, ...\n",
    "Peridot - 2, 6, 10, 14, 18, 22, ...\n",
    "Ruby - 3, 7, 11, 15, 19, 23, ...\n",
    "Emerald - 4, 8, 12, 16, 20, 24, ...\n",
    "All the students are represented by their roll numbers. Based on the above pattern, given the roll \n",
    "number as input, print the group the student belongs to. Note that the roll number can be any \n",
    "positive integer and not necessarily less than 25."
   ]
  },
  {
   "cell_type": "code",
   "execution_count": 47,
   "id": "fe438cf4",
   "metadata": {},
   "outputs": [
    {
     "name": "stdout",
     "output_type": "stream",
     "text": [
      "33\n",
      "[1, 5, 9, 13, 17, 21, 25, 29, 33]\n",
      "[2, 6, 10, 14, 18, 22, 26, 30]\n",
      "[3, 7, 11, 15, 19, 23, 27, 31]\n",
      "[4, 8, 12, 16, 20, 24, 28, 32]\n",
      "33 belongs to sapphire\n"
     ]
    }
   ],
   "source": [
    "n=int(input())\n",
    "sapphire=[x for x in range(1,n+1,4)]\n",
    "print(sapphire)\n",
    "peridot=[x for x in range(2,n+1,4)]\n",
    "print(peridot)\n",
    "Ruby=[x for x in range(3,n+1,4)]\n",
    "print(Ruby)\n",
    "Emerlad=[x for x in range(4,n+1,4)]\n",
    "print(Emerlad)\n",
    "\n",
    "\n",
    "if n in sapphire:\n",
    "    print(f\"{n} belongs to sapphire\")\n",
    "elif n in peridot:\n",
    "    print(f\"{n} belongs to peridot\")\n",
    "elif n in Ruby:\n",
    "    print(f\"{n} belongs to Ruby\")\n",
    "else:\n",
    "    print(f\"{n} belongs to Emerlad \")"
   ]
  },
  {
   "cell_type": "raw",
   "id": "7e18467c-5ccb-4820-bc5f-c4adc9babe2c",
   "metadata": {},
   "source": [
    "30. A data science company wants to hire data scientists from abc college. \n",
    "The company follows a certain criteria for selection: for a student to \n",
    "be selected, the number of backlogs should be at most 5 and the \n",
    "CGPA (Cumulative Grade Point Average) should be greater than 6. If \n",
    "the student does not fit the above criteria, then the student is not \n",
    "offered the job. If the student is selected, then the salary offered is \n",
    "equal to 5 times his/her CGPA (in lakhs).\n",
    "Accept the number of backlogs (integer) and the CGPA (float) of the \n",
    "student as input. Your task is to determine if the student is selected or \n",
    "not. If the student is selected, then print the package. If not, then \n",
    "print the string Not Selected."
   ]
  },
  {
   "cell_type": "code",
   "execution_count": 88,
   "id": "7dd97272",
   "metadata": {},
   "outputs": [
    {
     "name": "stdout",
     "output_type": "stream",
     "text": [
      "4\n",
      "5\n",
      "Not Selected\n"
     ]
    }
   ],
   "source": [
    "a=float(input())\n",
    "b=float(input())\n",
    "if a<=5 and b>6:\n",
    "    print(5*b)\n",
    "else:\n",
    "    print('Not Selected')"
   ]
  },
  {
   "cell_type": "raw",
   "id": "15b2b2b3-e511-4184-af23-c42d9ee021b8",
   "metadata": {},
   "source": [
    "31. Accept a string as input and print PALINDROME if it is a \n",
    "palindrome, and NOT PALINDROME otherwise"
   ]
  },
  {
   "cell_type": "code",
   "execution_count": 2,
   "id": "dd43e82e",
   "metadata": {},
   "outputs": [
    {
     "name": "stdout",
     "output_type": "stream",
     "text": [
      "Enter a string: MOM\n",
      "Palindrome\n"
     ]
    }
   ],
   "source": [
    "s=input(\"Enter a string: \")\n",
    "if s==s[::-1]:\n",
    "    print('Palindrome')\n",
    "else:\n",
    "    print('Not a palindrome')"
   ]
  },
  {
   "cell_type": "raw",
   "id": "92cfcd2b-ae26-4009-85b4-15e7996421ac",
   "metadata": {},
   "source": [
    "32. In a portal login website, you are asked to write a function get_password_strength to decide \n",
    "the strength of a password. The strength is decided based on the total score of the password, Use \n",
    "following conditions:\n",
    "1) If password has length greater than 7 then score increases by one point.\n",
    "2) If password has at least one upper case and one lower case alphabets score increases by one point.\n",
    "3) If password has at least one number and no consecutive numbers like 12 or 234 then score \n",
    "increases by one point.\n",
    "4) If password has at least one special character (any character other than numbers and alphabets) then \n",
    "score increases by one point.\n",
    "5) If password contains username, then it is invalid password.\n",
    "If the password has score of four points, three points, two points, or one point then print Very \n",
    "Strong, Strong, Moderate, or Weak respectively. If the password is invalid, then \n",
    "print PASSWORD SHOULD NOT CONTAIN USERNAME and If the score is zero, then print Use a \n",
    "different password.The arguments to the function are username and password which are \n",
    "already defined"
   ]
  },
  {
   "cell_type": "code",
   "execution_count": 51,
   "id": "fc27c246",
   "metadata": {},
   "outputs": [],
   "source": [
    "def get_password_strength(username,password):\n",
    "    c=0\n",
    "    capital='ABCDEFGHIJKLMNOPQRSTUVWXYZ'\n",
    "    c_flag=False\n",
    "    small='abcdefghijklmnopqrstuvwxyz'\n",
    "    s_flag=False\n",
    "    num='0123456789'\n",
    "    n_flag=False\n",
    "    nc_flag=True\n",
    "    if username in password:\n",
    "        print(\"PASSWORD SHOULD NOT CONTAIN USERNAME\")\n",
    "        return\n",
    "    if len(password)>7:\n",
    "        c=c+1\n",
    "    for i in range(len(password)):\n",
    "        if password[i] in small:\n",
    "            s_flag=True\n",
    "        elif password[i] in capital:\n",
    "            c_flag=True\n",
    "        elif password[i] in num:\n",
    "            n_flag=True\n",
    "        if n_flag:\n",
    "            if i!=(len(password)-1):\n",
    "                if num[((num.index(password[i]))+1)]==password[i+1]:\n",
    "                    nc_flag=False\n",
    "            if c_flag and s_flag:\n",
    "                c+=1\n",
    "            if n_flag and nc_flag:\n",
    "                c+=1\n",
    "            if not password.isalnum():\n",
    "                c+=1\n",
    "            if c==4:\n",
    "                print(\"Very Strong\")\n",
    "                return\n",
    "            if c==3:\n",
    "                print(\"Strong\")\n",
    "                return\n",
    "            if c==2:\n",
    "                print(\"moderate\")\n",
    "                return\n",
    "            if c==1:\n",
    "                print('week')\n",
    "                return\n",
    "            if c==0:\n",
    "                print(\"use a different password\")\n",
    "                return\n",
    "            \n",
    "            \n",
    "    "
   ]
  },
  {
   "cell_type": "code",
   "execution_count": 53,
   "id": "da4e4fa4",
   "metadata": {},
   "outputs": [
    {
     "name": "stdout",
     "output_type": "stream",
     "text": [
      "Strong\n"
     ]
    }
   ],
   "source": [
    "get_password_strength(\"dineshbabuvaddineni\",\"Dinesh@1234\")"
   ]
  },
  {
   "cell_type": "raw",
   "id": "67644faf-c8dc-439d-9c26-54b16751b2e0",
   "metadata": {},
   "source": [
    "33.decorator that logs the date and time"
   ]
  },
  {
   "cell_type": "code",
   "execution_count": 4,
   "id": "4ee89430",
   "metadata": {},
   "outputs": [],
   "source": [
    "from datetime import datetime\n",
    "def log_datetime(func):\n",
    "    def wrapper():\n",
    "        print(f'function:{func.__name__} \\nRun on {datetime.today().strftime(\"%Y-%m-%d %H:%M:%S\")}')\n",
    "        print(f'{\"-\"*30}')\n",
    "        func()\n",
    "    return wrapper\n",
    "@log_datetime\n",
    "def daily_backup():\n",
    "    print(\"Daily backup job has finished\")"
   ]
  },
  {
   "cell_type": "code",
   "execution_count": 5,
   "id": "bad611ab",
   "metadata": {},
   "outputs": [
    {
     "name": "stdout",
     "output_type": "stream",
     "text": [
      "function:daily_backup \n",
      "Run on 2022-11-26 15:33:14\n",
      "------------------------------\n",
      "Daily backup job has finished\n"
     ]
    }
   ],
   "source": [
    "daily_backup()"
   ]
  },
  {
   "cell_type": "raw",
   "id": "93474414-e8ba-439d-9f7d-0f3f4eb648b9",
   "metadata": {},
   "source": [
    "34.Program to Get Data Items From a List Appearing Odd Number of Times"
   ]
  },
  {
   "cell_type": "code",
   "execution_count": 8,
   "id": "8e139dd4",
   "metadata": {},
   "outputs": [
    {
     "name": "stdout",
     "output_type": "stream",
     "text": [
      "[1, 4, 5, 6, 7]\n"
     ]
    }
   ],
   "source": [
    "l=[1,2,3,4,2,3,5,6,7]\n",
    "l1=[]\n",
    "for i in l:\n",
    "    if l.count(i)%2!=0:\n",
    "        if i not in l1:\n",
    "            l1.append(i)\n",
    "print(l1) "
   ]
  },
  {
   "cell_type": "raw",
   "id": "70caf71f-6a2d-42a5-bb41-a83e99f3b0cb",
   "metadata": {},
   "source": [
    "35.What are decorators in Python?"
   ]
  },
  {
   "cell_type": "raw",
   "id": "00d3f3e6-8d1a-459c-8f05-fec2d7a72f0b",
   "metadata": {},
   "source": [
    "36. remove items from a list while iterating but without creating a different copy of a list.\n",
    "Remove numbers greater than 50\n",
    "number_list = [10, 20, 30, 40, 50, 60, 70, 80, 90, 100]\n",
    "Expected Output: [10, 20, 30, 40, 50]"
   ]
  },
  {
   "cell_type": "code",
   "execution_count": 35,
   "id": "a6b9575f",
   "metadata": {},
   "outputs": [
    {
     "name": "stdout",
     "output_type": "stream",
     "text": [
      "number_list after removing: [10, 20, 30, 40, 50]\n"
     ]
    }
   ],
   "source": [
    "number_list=[10,20,30,40,50,60,70,80,90,100]\n",
    "l=[]\n",
    "for i in number_list:\n",
    "    if i<=50:\n",
    "        l.append(i)\n",
    "print(\"number_list after removing:\",l)"
   ]
  },
  {
   "cell_type": "raw",
   "id": "6a034cd6-9a75-4912-8286-2396360ffa28",
   "metadata": {},
   "source": [
    "37.  Display all duplicate items from a list\n",
    "sample_list = [10, 20, 60, 30, 20, 40, 30, 60, 70, 80]\n",
    "Expected Output: [20, 60, 30]"
   ]
  },
  {
   "cell_type": "code",
   "execution_count": 38,
   "id": "ab5ab9b6",
   "metadata": {},
   "outputs": [
    {
     "name": "stdout",
     "output_type": "stream",
     "text": [
      "{20, 60, 30}\n"
     ]
    }
   ],
   "source": [
    "sample_list = [10, 20, 60, 30, 20, 40, 30, 60, 70, 80]\n",
    "l=[]\n",
    "for ele in sample_list:\n",
    "    if sample_list.count(ele)>1:\n",
    "        l.append(ele)\n",
    "print(set(l))\n",
    "        \n",
    "        \n"
   ]
  },
  {
   "cell_type": "code",
   "execution_count": 40,
   "id": "eb1b33ae",
   "metadata": {},
   "outputs": [
    {
     "name": "stdout",
     "output_type": "stream",
     "text": [
      "[20, 60, 30]\n"
     ]
    }
   ],
   "source": [
    "import collections\n",
    "sample_list = [10, 20, 60, 30, 20, 40, 30, 60, 70, 80]\n",
    "duplicates=[]\n",
    "for item,count in collections.Counter(sample_list).items():\n",
    "    if count>1:\n",
    "        duplicates.append(item)\n",
    "print(duplicates)"
   ]
  },
  {
   "cell_type": "raw",
   "id": "03607aeb-291c-41e0-bb35-101d53d1f25f",
   "metadata": {},
   "source": [
    "38. Create an outer function that will accept two strings, x and y. (x= 'Emma' and y = 'Kelly'.\n",
    "Create an inner function inside an outer function that will concatenate x and y.\n",
    "At last, an outer function will join the word 'developer' to it."
   ]
  },
  {
   "cell_type": "code",
   "execution_count": 41,
   "id": "901cf6ac",
   "metadata": {},
   "outputs": [],
   "source": [
    "def outer(x,y):\n",
    "    def inner(x,y):\n",
    "        return x+y\n",
    "    z=inner(x,y)\n",
    "    return z+'Developer'\n",
    "        "
   ]
  },
  {
   "cell_type": "code",
   "execution_count": 43,
   "id": "984ae004",
   "metadata": {},
   "outputs": [
    {
     "name": "stdout",
     "output_type": "stream",
     "text": [
      "Emma Kelly Developer\n"
     ]
    }
   ],
   "source": [
    "result=outer('Emma ','Kelly ')\n",
    "print(result)"
   ]
  },
  {
   "cell_type": "raw",
   "id": "c3238d35-61fa-4d2a-8e92-c393399b1b5b",
   "metadata": {},
   "source": [
    "39. Modify the element of a nested list inside the following list\n",
    "Change the element 35 to 3500\n",
    "list1 = [5, [10, 15, [20, 25, [30, 35], 40], 45], 50]"
   ]
  },
  {
   "cell_type": "code",
   "execution_count": 45,
   "id": "dea9e109",
   "metadata": {},
   "outputs": [
    {
     "name": "stdout",
     "output_type": "stream",
     "text": [
      "[5, [10, 15, [20, 25, [30, 3500], 40], 45], 50]\n"
     ]
    }
   ],
   "source": [
    "list1 = [5, [10, 15, [20, 25, [30, 35], 40], 45], 50]\n",
    "list1[1][2][2][1]=3500\n",
    "print(list1)"
   ]
  },
  {
   "cell_type": "raw",
   "id": "0106b7da-e95f-46ba-873a-e641d7199be7",
   "metadata": {},
   "source": [
    "40.  Access the nested key increment from the following dictionary\n",
    "Access 12\n",
    "emp_dict = {\n",
    "    \"company\": {\n",
    "        \"employee\": {\n",
    "            \"name\": \"Jess\",\n",
    "            \"payable\": {\n",
    "                \"salary\": 9000,\n",
    "                \"increment\": 12\n",
    "            }\n",
    "        }\n",
    "    }\n",
    "}"
   ]
  },
  {
   "cell_type": "code",
   "execution_count": 48,
   "id": "2f8d5cf9",
   "metadata": {},
   "outputs": [
    {
     "name": "stdout",
     "output_type": "stream",
     "text": [
      "12\n"
     ]
    }
   ],
   "source": [
    "emp_dict = {\n",
    "    \"company\": {\n",
    "        \"employee\": {\n",
    "            \"name\": \"Jess\",\n",
    "            \"payable\": {\n",
    "                \"salary\": 9000,\n",
    "                \"increment\": 12\n",
    "            }\n",
    "        }\n",
    "    }\n",
    "}\n",
    "print(emp_dict[\"company\"][\"employee\"][\"payable\"][\"increment\"])"
   ]
  },
  {
   "cell_type": "raw",
   "id": "a36e12a4-baf9-4c0b-90e6-c16fd60b02ba",
   "metadata": {},
   "source": [
    "41. Print the sum of the current number and the previous number\n",
    "Write a program to iterate the first 10 numbers and in each iteration, print the sum of the current and previous number.\n",
    "Printing current and previous number sum in a range(10)\n",
    "Current Number 0 Previous Number  0  Sum:  0\n",
    "Current Number 1 Previous Number  0  Sum:  1\n",
    "Current Number 2 Previous Number  1  Sum:  3\n",
    "Current Number 3 Previous Number  2  Sum:  5\n",
    "Current Number 4 Previous Number  3  Sum:  7\n",
    "Current Number 5 Previous Number  4  Sum:  9\n",
    "Current Number 6 Previous Number  5  Sum:  11\n",
    "Current Number 7 Previous Number  6  Sum:  13\n",
    "Current Number 8 Previous Number  7  Sum:  15\n",
    "Current Number 9 Previous Number  8  Sum:  17"
   ]
  },
  {
   "cell_type": "code",
   "execution_count": 104,
   "id": "a9c67522",
   "metadata": {},
   "outputs": [
    {
     "name": "stdout",
     "output_type": "stream",
     "text": [
      "Current number 0 previous Number -1 sum:-1\n",
      "Current number 1 previous Number 0 sum:1\n",
      "Current number 2 previous Number 1 sum:3\n",
      "Current number 3 previous Number 2 sum:5\n",
      "Current number 4 previous Number 3 sum:7\n",
      "Current number 5 previous Number 4 sum:9\n",
      "Current number 6 previous Number 5 sum:11\n",
      "Current number 7 previous Number 6 sum:13\n",
      "Current number 8 previous Number 7 sum:15\n",
      "Current number 9 previous Number 8 sum:17\n"
     ]
    }
   ],
   "source": [
    "for i in range(10):\n",
    "\n",
    "    print(f\"Current number {i} previous Number {i-1} sum:{i*2-1}\")"
   ]
  },
  {
   "cell_type": "raw",
   "id": "04f5ef21-9056-4a31-bc4d-b5641a6bc80d",
   "metadata": {},
   "source": [
    "42. Print characters from a string that are present at an even index number\n",
    "Write a program to accept a string from the user and display characters that are present at an even index number.\n",
    "\n",
    "For example, str = \"ineuron\" so you should display ‘i’, ‘e’, ‘r’, ‘n’."
   ]
  },
  {
   "cell_type": "code",
   "execution_count": 49,
   "id": "fca67aa6",
   "metadata": {},
   "outputs": [
    {
     "name": "stdout",
     "output_type": "stream",
     "text": [
      "dinesh\n",
      "d n s "
     ]
    }
   ],
   "source": [
    "s=input()\n",
    "for i in range(len(s)):\n",
    "    if i%2==0:\n",
    "        print(s[i],end=\" \")"
   ]
  },
  {
   "cell_type": "code",
   "execution_count": 52,
   "id": "26eb64a1",
   "metadata": {},
   "outputs": [
    {
     "name": "stdout",
     "output_type": "stream",
     "text": [
      "ineuron\n",
      "i e r n "
     ]
    }
   ],
   "source": [
    "s=input()\n",
    "for i in range(0,len(s),2):\n",
    "    print(s[i],end=\" \")"
   ]
  },
  {
   "cell_type": "raw",
   "id": "19f5f95f-8e4e-48c8-8639-247f8f058efa",
   "metadata": {},
   "source": [
    "43. Print multiplication table form 1 to 10\n",
    "1  2 3 4 5 6 7 8 9 10 \t\t\n",
    "2  4 6 8 10 12 14 16 18 20 \t\t\n",
    "3  6 9 12 15 18 21 24 27 30 \t\t\n",
    "4  8 12 16 20 24 28 32 36 40 \t\t\n",
    "5  10 15 20 25 30 35 40 45 50 \t\t\n",
    "6  12 18 24 30 36 42 48 54 60 \t\t\n",
    "7  14 21 28 35 42 49 56 63 70 \t\t\n",
    "8  16 24 32 40 48 56 64 72 80 \t\t\n",
    "9  18 27 36 45 54 63 72 81 90 \t\t\n",
    "10 20 30 40 50 60 70 80 90 100 "
   ]
  },
  {
   "cell_type": "code",
   "execution_count": 119,
   "id": "5524fd5d",
   "metadata": {},
   "outputs": [
    {
     "name": "stdout",
     "output_type": "stream",
     "text": [
      "1 2 3 4 5 6 7 8 9 10  \n",
      "2 4 6 8 10 12 14 16 18 20  \n",
      "3 6 9 12 15 18 21 24 27 30  \n",
      "4 8 12 16 20 24 28 32 36 40  \n",
      "5 10 15 20 25 30 35 40 45 50  \n",
      "6 12 18 24 30 36 42 48 54 60  \n",
      "7 14 21 28 35 42 49 56 63 70  \n",
      "8 16 24 32 40 48 56 64 72 80  \n",
      "9 18 27 36 45 54 63 72 81 90  \n",
      "10 20 30 40 50 60 70 80 90 100  \n"
     ]
    }
   ],
   "source": [
    "for i in range(1,11):\n",
    "    for j in range(1,11):\n",
    "        print(i*j,end=' ')\n",
    "    print(\" \")"
   ]
  },
  {
   "cell_type": "raw",
   "id": "07f9b814-fc05-4a97-8a50-b762ab2522e6",
   "metadata": {},
   "source": [
    "44. Remove duplicates from a list and create a tuple and find the minimum and maximum number\n",
    "sample_list = [87, 45, 41, 65, 94, 41, 99, 94]\n",
    "Expected Outcome:\n",
    "unique items [87, 45, 41, 65, 99]\n",
    "tuple (87, 45, 41, 65, 99)\n",
    "min: 41\n",
    "max: 99"
   ]
  },
  {
   "cell_type": "code",
   "execution_count": 115,
   "id": "a0ad069f",
   "metadata": {},
   "outputs": [
    {
     "name": "stdout",
     "output_type": "stream",
     "text": [
      "Unique items: [65, 99, 41, 45, 87, 94]\n",
      "tuple: (65, 99, 41, 45, 87, 94)\n",
      "min: 41\n",
      "max: 99\n"
     ]
    }
   ],
   "source": [
    "sample_list = [87, 45, 41, 65, 94, 41, 99, 94]\n",
    "a=set(sample_list)\n",
    "print(\"Unique items:\",list(a))\n",
    "b=tuple(a)\n",
    "print(\"tuple:\",b)\n",
    "print(\"min:\",min(b))\n",
    "print(\"max:\",max(b))"
   ]
  },
  {
   "cell_type": "raw",
   "id": "f4d4b1a2-7c19-43c4-922c-837b6c40f5fb",
   "metadata": {},
   "source": [
    "45. Write a Python program to create a lambda function that adds 15 to a given number passed in as an argument,\n",
    "also create a lambda function\n",
    "that multiplies argument x with argument y and print the result."
   ]
  },
  {
   "cell_type": "code",
   "execution_count": 61,
   "id": "db870598",
   "metadata": {},
   "outputs": [
    {
     "name": "stdout",
     "output_type": "stream",
     "text": [
      "Addition:  17\n",
      "Multiplication: 30\n"
     ]
    }
   ],
   "source": [
    "add=lambda x: x+15\n",
    "print(\"Addition: \",add(2))\n",
    "mul=lambda x,y:x*y\n",
    "print(\"Multiplication:\",mul(15,2))"
   ]
  },
  {
   "cell_type": "raw",
   "id": "58df2f9a-6310-4e59-a5fe-6658ff7898e1",
   "metadata": {},
   "source": [
    "46. Write a Python program to sort a list of tuples using Lambda."
   ]
  },
  {
   "cell_type": "code",
   "execution_count": 63,
   "id": "c1683985",
   "metadata": {},
   "outputs": [
    {
     "data": {
      "text/plain": [
       "[(1, 'f'), (3, 't'), (4, 'g')]"
      ]
     },
     "execution_count": 63,
     "metadata": {},
     "output_type": "execute_result"
    }
   ],
   "source": [
    "sort_list=lambda x:sorted(x)\n",
    "l=[(3,'t'),(4,'g'),(1,'f')]\n",
    "sort_list(l)"
   ]
  },
  {
   "cell_type": "raw",
   "id": "745bbb70-f71c-4042-a99a-f42bccef267e",
   "metadata": {},
   "source": [
    "47. Write a Python program to extract year, month, date and time using Lambda."
   ]
  },
  {
   "cell_type": "code",
   "execution_count": 70,
   "id": "a244429e",
   "metadata": {},
   "outputs": [
    {
     "name": "stdout",
     "output_type": "stream",
     "text": [
      "2022-11-26 17:24:41.947587\n",
      "2022\n",
      "11\n",
      "26\n",
      "17:24:41.947587\n"
     ]
    }
   ],
   "source": [
    "import datetime\n",
    "now=datetime.datetime.now()\n",
    "print(now)\n",
    "year=lambda x:x.year\n",
    "month=lambda x:x.month\n",
    "day=lambda x:x.day\n",
    "t=lambda x:x.time()\n",
    "print(year(now))\n",
    "print(month(now))\n",
    "print(day(now))\n",
    "print(t(now))"
   ]
  },
  {
   "cell_type": "raw",
   "id": "afcf0f97-d39b-4554-a14f-411096bd515e",
   "metadata": {},
   "source": [
    "48. Write a Python program to count the even, odd numbers in a given array of integers using Lambda."
   ]
  },
  {
   "cell_type": "code",
   "execution_count": 81,
   "id": "3467d18a",
   "metadata": {},
   "outputs": [
    {
     "name": "stdout",
     "output_type": "stream",
     "text": [
      "Total even no's: 4\n",
      "Total odd no's: 5\n"
     ]
    }
   ],
   "source": [
    "l=[1,2,3,4,5,6,7,8,9]\n",
    "even=len(list(filter(lambda x: x%2==0, l)))\n",
    "odd=len(list(filter(lambda x: x%2!=0,l)))\n",
    "print(\"Total even no's:\", even)\n",
    "print(\"Total odd no's:\", odd)"
   ]
  },
  {
   "cell_type": "raw",
   "id": "dbd65ee9-2f83-4286-a7b3-52f398ab8527",
   "metadata": {},
   "source": [
    "49. Write a Python program to convert all the characters in uppercase and lowercase and eliminate duplicate letters from a given sequence.\n",
    "Use map() function."
   ]
  },
  {
   "cell_type": "code",
   "execution_count": 114,
   "id": "bd228ed5",
   "metadata": {},
   "outputs": [
    {
     "name": "stdout",
     "output_type": "stream",
     "text": [
      "Original Characters:\n",
      " {'a', 'f', 'U', 'i', 'o', 'b', 'E'}\n",
      "\n",
      "After converting above characters in upper and lower cases\n",
      "and eliminating duplicate letters:\n",
      "{('F', 'f'), ('A', 'a'), ('U', 'u'), ('I', 'i'), ('B', 'b'), ('E', 'e'), ('O', 'o')}\n"
     ]
    }
   ],
   "source": [
    "def change_cases(s):\n",
    "  return str(s).upper(), str(s).lower()\n",
    " \n",
    "chrars = {'a', 'b', 'E', 'f', 'a', 'i', 'o', 'U', 'a'}\n",
    "print(\"Original Characters:\\n\",chrars)\n",
    " \n",
    "result = map(change_cases, chrars)\n",
    "print(\"\\nAfter converting above characters in upper and lower cases\\nand eliminating duplicate letters:\")\n",
    "print(set(result))\n"
   ]
  },
  {
   "cell_type": "raw",
   "id": "78c63beb-b43b-48ad-bb20-31f403af2f10",
   "metadata": {},
   "source": [
    "50.  Write a Python program to square the elements of a list using map() function."
   ]
  },
  {
   "cell_type": "code",
   "execution_count": 95,
   "id": "5cbe4ec7",
   "metadata": {},
   "outputs": [],
   "source": [
    "l=[2,4,6,8,10]\n",
    "def squ_num(a):\n",
    "    return a**2"
   ]
  },
  {
   "cell_type": "code",
   "execution_count": 97,
   "id": "3e2e46ad",
   "metadata": {},
   "outputs": [
    {
     "data": {
      "text/plain": [
       "[4, 16, 36, 64, 100]"
      ]
     },
     "execution_count": 97,
     "metadata": {},
     "output_type": "execute_result"
    }
   ],
   "source": [
    "list(map(squ_num,l))"
   ]
  },
  {
   "cell_type": "code",
   "execution_count": 98,
   "id": "12c40564",
   "metadata": {},
   "outputs": [],
   "source": [
    "l=[1,2,3,4,5]"
   ]
  },
  {
   "cell_type": "code",
   "execution_count": 99,
   "id": "966289a6",
   "metadata": {},
   "outputs": [
    {
     "data": {
      "text/plain": [
       "[1, 4, 9, 16, 25]"
      ]
     },
     "execution_count": 99,
     "metadata": {},
     "output_type": "execute_result"
    }
   ],
   "source": [
    "list(map(lambda a:a**2,l))"
   ]
  },
  {
   "cell_type": "raw",
   "id": "a024e2e1",
   "metadata": {},
   "source": [
    "51. Try to create two decorators for converting a string to lower case and split it into words."
   ]
  },
  {
   "cell_type": "code",
   "execution_count": 23,
   "id": "7509dcb4",
   "metadata": {},
   "outputs": [],
   "source": [
    "def lowercase_dec(function):\n",
    "    def f1():\n",
    "        func=function()\n",
    "        string_lowercase=func.lower()\n",
    "        return string_lowercase\n",
    "    return f1\n",
    "def splitword(function):\n",
    "    def f1():\n",
    "        func=function()\n",
    "        string_split=func.split()\n",
    "        return string_split\n",
    "    return f1\n"
   ]
  },
  {
   "cell_type": "code",
   "execution_count": 24,
   "id": "90a40781",
   "metadata": {},
   "outputs": [],
   "source": [
    "@splitword\n",
    "@lowercase_dec\n",
    "def hello():\n",
    "    return \"Hello World\""
   ]
  },
  {
   "cell_type": "code",
   "execution_count": 25,
   "id": "5216b9be",
   "metadata": {},
   "outputs": [
    {
     "data": {
      "text/plain": [
       "['hello', 'world']"
      ]
     },
     "execution_count": 25,
     "metadata": {},
     "output_type": "execute_result"
    }
   ],
   "source": [
    "hello()"
   ]
  },
  {
   "cell_type": "code",
   "execution_count": null,
   "id": "c3f9e629",
   "metadata": {},
   "outputs": [],
   "source": []
  }
 ],
 "metadata": {
  "kernelspec": {
   "display_name": "Python 3",
   "language": "python",
   "name": "python3"
  },
  "language_info": {
   "codemirror_mode": {
    "name": "ipython",
    "version": 3
   },
   "file_extension": ".py",
   "mimetype": "text/x-python",
   "name": "python",
   "nbconvert_exporter": "python",
   "pygments_lexer": "ipython3",
   "version": "3.8.8"
  }
 },
 "nbformat": 4,
 "nbformat_minor": 5
}
